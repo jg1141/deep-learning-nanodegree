{
 "cells": [
  {
   "cell_type": "markdown",
   "metadata": {},
   "source": [
    "# how_to_use_tensorboard_live\n",
    "This is the code for the \"How to Use Tensorboard\" live session by Siraj Raval on Youtube\n",
    "\n",
    "## Overview\n",
    "\n",
    "This is the code for [this](https://www.youtube.com/watch?v=fBVEXKp4DIc) video on Youtube by Siraj Raval. We're going to classify handwritten characters using a convolutional neural network. Then we'll visualize the results in tensorboard, including a demo of the new embedding visualizer. \n",
    "\n",
    "## Dependencies\n",
    "\n",
    "* os\n",
    "* tensorflow \n",
    "* sys\n",
    "* urllib\n",
    "\n",
    "Install dependencies with [pip](https://packaging.python.org/installing/). \n",
    "\n",
    "## Usage\n",
    "\n",
    "Run `python mnist.py` in terminal to train the code. \n",
    "\n",
    "Visualize it with this command in terminal after training. \n",
    "\n",
    "`tensorboard logdir='/tmp/mnist_tutorial/'` \n",
    "\n",
    "## Credits\n",
    "\n",
    "The credits for this code go to [mamcgrath](https://github.com/mamcgrath/TensorBoard-TF-Dev-Summit-Tutorial/blob/master/mnist.py). I've merely created a wrapper to get people started. \n"
   ]
  }
 ],
 "metadata": {
  "kernelspec": {
   "display_name": "Python 3",
   "language": "python",
   "name": "python3"
  },
  "language_info": {
   "codemirror_mode": {
    "name": "ipython",
    "version": 3
   },
   "file_extension": ".py",
   "mimetype": "text/x-python",
   "name": "python",
   "nbconvert_exporter": "python",
   "pygments_lexer": "ipython3",
   "version": "3.5.3"
  }
 },
 "nbformat": 4,
 "nbformat_minor": 2
}
