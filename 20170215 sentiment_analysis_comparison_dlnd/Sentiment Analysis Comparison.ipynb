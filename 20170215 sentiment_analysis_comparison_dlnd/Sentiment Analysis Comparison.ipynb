{
 "cells": [
  {
   "cell_type": "markdown",
   "metadata": {},
   "source": [
    "# Sentiment Analysis Comparison\n",
    "\n",
    "In this notebook, we'll compare all three approaches to sentiment analysis and compare the accuracy, confusion matrices and let you explore each one with your input.\n",
    "\n",
    "First, we need to use the same dataset for the input, to make it a fair fight :)"
   ]
  },
  {
   "cell_type": "code",
   "execution_count": 1,
   "metadata": {
    "collapsed": false
   },
   "outputs": [
    {
     "name": "stderr",
     "output_type": "stream",
     "text": [
      "Using TensorFlow backend.\n"
     ]
    }
   ],
   "source": [
    "## all imports\n",
    "import pandas as pd\n",
    "import numpy as np\n",
    "import tensorflow as tf\n",
    "import tflearn\n",
    "from tflearn.data_utils import to_categorical\n",
    "import tflearn\n",
    "from tflearn.data_utils import to_categorical, pad_sequences\n",
    "\n",
    "import tflearn\n",
    "from tflearn.data_utils import to_categorical, pad_sequences\n",
    "from keras.datasets import imdb\n",
    "from keras.preprocessing import sequence\n",
    "\n",
    "from sklearn.metrics import confusion_matrix\n",
    "import matplotlib.pyplot as plt\n",
    "import itertools\n",
    "\n",
    "%matplotlib inline\n",
    "tf.logging.set_verbosity(tf.logging.ERROR)"
   ]
  },
  {
   "cell_type": "markdown",
   "metadata": {},
   "source": [
    "## Preparing the data\n",
    "\n",
    "We'll get 25000 labeled imdb reviews. 22500 for training and 2500 for testing.\n",
    "\n",
    "We will use the Keras dataset, because it has a word index function to retrieve a word from an index.\n",
    "\n",
    "> Dataset of 25,000 movies reviews from IMDB, labeled by sentiment (positive/negative). Reviews have been preprocessed, and each review is encoded as a sequence of word indexes (integers). For convenience, words are indexed by overall frequency in the dataset, so that for instance the integer \"3\" encodes the 3rd most frequent word in the data. This allows for quick filtering operations such as: \"only consider the top 10,000 most common words, but eliminate the top 20 most common words\".\n",
    "\n",
    ">As a convention, \"0\" does not stand for a specific word, but instead is used to encode any unknown word.\n",
    "\n",
    "> [Keras documentation](https://keras.io/datasets/)"
   ]
  },
  {
   "cell_type": "code",
   "execution_count": 2,
   "metadata": {
    "collapsed": false
   },
   "outputs": [],
   "source": [
    "# IMDB Dataset loading from keras\n",
    "# We'll only get the first 10000 most frequent words\n",
    "N_MOST_FREQUENT_WORDS = 10000\n",
    "\n",
    "train, test = imdb.load_data(path='imdb.pkl',  nb_words = N_MOST_FREQUENT_WORDS+1, index_from=0, oov_char=0)\n",
    "\n",
    "trainX, trainY = train # train is a tuple, here we divide this tuple\n",
    "testX, testY = test\n",
    "\n",
    "# There is a bug in the Keras's implementation, always train == test, so we need to split it by hand\n",
    "trainX = trainX[:22500]\n",
    "trainY = trainY[:22500]\n",
    "testX = testX[22500:]\n",
    "testY = testY[22500:]"
   ]
  },
  {
   "cell_type": "code",
   "execution_count": 3,
   "metadata": {
    "collapsed": false
   },
   "outputs": [
    {
     "name": "stdout",
     "output_type": "stream",
     "text": [
      "[('the', 1), ('and', 2), ('a', 3), ('of', 4), ('to', 5)]\n",
      "[('approved', 10000), ('beaver', 9999), ('shenanigans', 9998), ('retains', 9997), ('edged', 9996)]\n"
     ]
    }
   ],
   "source": [
    "word_to_index = imdb.get_word_index()\n",
    "word_to_index = {k: v for k, v in word_to_index.items() if v <= N_MOST_FREQUENT_WORDS}\n",
    "index_to_word = {v: k for k, v in word_to_index.items()}\n",
    "\n",
    "print(sorted(word_to_index.items(), key=lambda x: x[1])[:5])\n",
    "print(sorted(word_to_index.items(), key=lambda x: x[1], reverse=True)[:5])"
   ]
  },
  {
   "cell_type": "code",
   "execution_count": 4,
   "metadata": {
    "collapsed": false
   },
   "outputs": [
    {
     "data": {
      "text/plain": [
       "[10, 781, 11, 17, 0]"
      ]
     },
     "execution_count": 4,
     "metadata": {},
     "output_type": "execute_result"
    }
   ],
   "source": [
    "def phrase_to_index_list(phrase):\n",
    "    result = []\n",
    "    phrase = phrase.lower()\n",
    "    for word in phrase.split():\n",
    "        result.append(word_to_index.get(word, 0))\n",
    "    return result\n",
    "\n",
    "phrase_to_index_list(\"I hate this movie unknownword\")"
   ]
  },
  {
   "cell_type": "code",
   "execution_count": 5,
   "metadata": {
    "collapsed": false
   },
   "outputs": [
    {
     "name": "stdout",
     "output_type": "stream",
     "text": [
      "the ACTUAL review (lol) http://www.imdb.com/title/tt0091339/reviews-22 \n",
      "\n",
      "the big hair big boobs bad music and a giant safety pin these are the words to best describe this terrible movie i love cheesy horror movies and i've seen hundreds but this had got to be on of the worst ever made the plot is paper thin and ridiculous the acting is an abomination the script is completely laughable the best is the end showdown with the cop and how he worked out who the killer is it's just so damn terribly written the clothes are sickening and funny in equal UNKNOW the hair is big lots of boobs UNKNOW men wear those cut UNKNOW shirts that show off their UNKNOW sickening that men actually wore them and the music is just UNKNOW trash that plays over and over again in almost every scene there is trashy music boobs and UNKNOW taking away bodies and the gym still doesn't close for UNKNOW all joking aside this is a truly bad film whose only charm is to look back on the disaster that was the 80's and have a good old laugh at how bad everything was back then \n",
      "\n",
      "Label:  0\n"
     ]
    }
   ],
   "source": [
    "def index_list_to_phrase(index_list):\n",
    "    result = []\n",
    "    for word_index in index_list:\n",
    "        result.append(index_to_word.get(word_index, \"UNKNOW\"))\n",
    "    return result\n",
    "\n",
    "print(\"the ACTUAL review (lol) http://www.imdb.com/title/tt0091339/reviews-22 \\n\")\n",
    "print(\" \".join(index_list_to_phrase(trainX[1])), \"\\n\")\n",
    "print(\"Label: \", trainY[1])"
   ]
  },
  {
   "cell_type": "markdown",
   "metadata": {},
   "source": [
    "### Text to fixed vector\n",
    "\n",
    "Trask and Mat used fixed vector. We will use 10000 words + 1 (for the words that are not in the dictionary) for the input vector."
   ]
  },
  {
   "cell_type": "code",
   "execution_count": 6,
   "metadata": {
    "collapsed": true
   },
   "outputs": [],
   "source": [
    "def index_sequence_to_vector(index_sequence_list):\n",
    "    result = np.zeros(N_MOST_FREQUENT_WORDS + 1)\n",
    "    for word_index in index_sequence_list:\n",
    "        result[word_index] = result[word_index] + 1\n",
    "    return result"
   ]
  },
  {
   "cell_type": "code",
   "execution_count": 7,
   "metadata": {
    "collapsed": false
   },
   "outputs": [
    {
     "name": "stdout",
     "output_type": "stream",
     "text": [
      "[  7.  16.  10.   3.   2.   3.  10.   0.   2.   0.]\n",
      "[('the', 1), ('and', 2), ('a', 3), ('of', 4), ('to', 5), ('is', 6), ('br', 7), ('in', 8), ('it', 9)]\n"
     ]
    }
   ],
   "source": [
    "print(index_sequence_to_vector(trainX[1])[:10])\n",
    "print(sorted(word_to_index.items(), key=lambda x: x[1])[:9])"
   ]
  },
  {
   "cell_type": "markdown",
   "metadata": {},
   "source": [
    "The review trainX[1] has 7 unknown words in the dictionary, 16 \"the\", 10 \"and\"... You can check it yourself using the review above."
   ]
  },
  {
   "cell_type": "markdown",
   "metadata": {},
   "source": [
    "This function prints and plots the confusion matrix. Normalization can be applied by setting `normalize=True`.\n",
    "[Credits: sklearn](http://scikit-learn.org/stable/auto_examples/model_selection/plot_confusion_matrix.html)"
   ]
  },
  {
   "cell_type": "code",
   "execution_count": 8,
   "metadata": {
    "collapsed": true
   },
   "outputs": [],
   "source": [
    "def plot_confusion_matrix(cm, classes, normalize=False, title='Confusion matrix', cmap=plt.cm.Blues):\n",
    "    \n",
    "    plt.figure()\n",
    "    \n",
    "    plt.imshow(cm, interpolation='nearest', cmap=cmap)\n",
    "    plt.title(title)\n",
    "    plt.colorbar()\n",
    "    tick_marks = np.arange(len(classes))\n",
    "    plt.xticks(tick_marks, classes, rotation=45)\n",
    "    plt.yticks(tick_marks, classes)\n",
    "\n",
    "    if normalize:\n",
    "        cm = cm.astype('float') / cm.sum(axis=1)[:, np.newaxis]\n",
    "\n",
    "    thresh = cm.max() / 2.\n",
    "    for i, j in itertools.product(range(cm.shape[0]), range(cm.shape[1])):\n",
    "        plt.text(j, i, cm[i, j],\n",
    "                 horizontalalignment=\"center\",\n",
    "                 color=\"white\" if cm[i, j] > thresh else \"black\")\n",
    "\n",
    "    plt.tight_layout()\n",
    "    plt.ylabel('True label')\n",
    "    plt.xlabel('Predicted label')"
   ]
  },
  {
   "cell_type": "markdown",
   "metadata": {},
   "source": [
    "![''](https://media.licdn.com/mpr/mpr/shrinknp_400_400/AAEAAQAAAAAAAAQuAAAAJDY5ODU4NDA4LTY2NjAtNDY0MS1iNDBlLWU4OGVlYmUxOGI0Yw.jpg)\n",
    "\n",
    "## First contender: Siraj Raval"
   ]
  },
  {
   "cell_type": "code",
   "execution_count": 9,
   "metadata": {
    "collapsed": false
   },
   "outputs": [
    {
     "name": "stdout",
     "output_type": "stream",
     "text": [
      "Training Step: 2815  | total loss: \u001b[1m\u001b[32m0.08107\u001b[0m\u001b[0m | time: 50.294s\n",
      "| Adam | epoch: 008 | loss: 0.08107 - acc: 0.9782 -- iter: 22464/22500\n",
      "Training Step: 2816  | total loss: \u001b[1m\u001b[32m0.08927\u001b[0m\u001b[0m | time: 51.907s\n",
      "| Adam | epoch: 008 | loss: 0.08927 - acc: 0.9773 | val_loss: 0.75877 - val_acc: 0.7928 -- iter: 22500/22500\n",
      "--\n"
     ]
    }
   ],
   "source": [
    "# Data preprocessing\n",
    "_trainX = pad_sequences(trainX, maxlen=100, value=0.)\n",
    "_testX = pad_sequences(testX, maxlen=100, value=0.)\n",
    "# Converting labels to binary vectors\n",
    "_trainY = to_categorical(trainY, nb_classes=2)\n",
    "_testY = to_categorical(testY, nb_classes=2)\n",
    "\n",
    "def buildSirajModel():\n",
    "\n",
    "    # Network building\n",
    "    net = tflearn.input_data([None, 100])\n",
    "    net = tflearn.embedding(net, input_dim=N_MOST_FREQUENT_WORDS+1, output_dim=128) # +1 is for the 0 index -> the unknow words in the dictionary\n",
    "    net = tflearn.lstm(net, 128, dropout=0.8, dynamic=True)\n",
    "    net = tflearn.fully_connected(net, 2, activation='softmax')\n",
    "    net = tflearn.regression(net, optimizer='adam', learning_rate=0.001, loss='categorical_crossentropy')\n",
    "\n",
    "    # Training\n",
    "    model = tflearn.DNN(net, tensorboard_verbose=0)\n",
    "    return model\n",
    "\n",
    "sirajModel = buildSirajModel()\n",
    "sirajModel.fit(_trainX, _trainY, validation_set=(_testX, _testY), show_metric=True, n_epoch=8) \n",
    "# 10 epochs (default) was overfitting | Adam | epoch: 010 | loss: 0.04873 - acc: 0.9838 | val_loss: 1.03306 - val_acc: 0.7764 -- iter: 22500/22500"
   ]
  },
  {
   "cell_type": "code",
   "execution_count": 10,
   "metadata": {
    "collapsed": false
   },
   "outputs": [
    {
     "name": "stdout",
     "output_type": "stream",
     "text": [
      "Siraj Test accuracy:  [0.79279999999999995]\n"
     ]
    },
    {
     "data": {
      "image/png": "[encoded data removed]",
      "text/plain": [
       "<matplotlib.figure.Figure at 0x21facfdec88>"
      ]
     },
     "metadata": {},
     "output_type": "display_data"
    }
   ],
   "source": [
    "y_true_siraj = testY\n",
    "# (first output < second output) -> negative label else positive label\n",
    "y_pred_siraj = np.apply_along_axis(lambda x: x[0] < x[1], 1, sirajModel.predict(_testX)) \n",
    "\n",
    "score = sirajModel.evaluate(_testX, _testY)\n",
    "print('Siraj Test accuracy: ' , score)\n",
    "\n",
    "plot_confusion_matrix(confusion_matrix(y_true_siraj, y_pred_siraj), classes=['Negative', 'Positive'], title='Siraj Confusion matrix')"
   ]
  },
  {
   "cell_type": "markdown",
   "metadata": {},
   "source": [
    "## Second contender: Mat Leonard"
   ]
  },
  {
   "cell_type": "code",
   "execution_count": 11,
   "metadata": {
    "collapsed": false
   },
   "outputs": [],
   "source": [
    "def build_model():\n",
    "    # This resets all parameters and variables, leave this here\n",
    "    tf.reset_default_graph()\n",
    "    \n",
    "    # Inputs\n",
    "    net = tflearn.input_data([None, N_MOST_FREQUENT_WORDS + 1])\n",
    "\n",
    "    # Hidden layer(s)\n",
    "    net = tflearn.fully_connected(net, 200, activation='ReLU')\n",
    "    net = tflearn.fully_connected(net, 25, activation='ReLU')\n",
    "\n",
    "    # Output layer\n",
    "    net = tflearn.fully_connected(net, 2, activation='softmax')\n",
    "    net = tflearn.regression(net, optimizer='sgd', \n",
    "                             learning_rate=0.1, \n",
    "                             loss='categorical_crossentropy')\n",
    "    \n",
    "    model = tflearn.DNN(net)\n",
    "    return model"
   ]
  },
  {
   "cell_type": "code",
   "execution_count": 12,
   "metadata": {
    "collapsed": false
   },
   "outputs": [
    {
     "name": "stdout",
     "output_type": "stream",
     "text": [
      "Training Step: 4769  | total loss: \u001b[1m\u001b[32m0.40239\u001b[0m\u001b[0m | time: 2.684s\n",
      "| SGD | epoch: 030 | loss: 0.40239 - acc: 0.8574 -- iter: 20224/20250\n",
      "Training Step: 4770  | total loss: \u001b[1m\u001b[32m0.38860\u001b[0m\u001b[0m | time: 3.706s\n",
      "| SGD | epoch: 030 | loss: 0.38860 - acc: 0.8655 | val_loss: 0.35210 - val_acc: 0.8480 -- iter: 20250/20250\n",
      "--\n"
     ]
    }
   ],
   "source": [
    "matModel = build_model()\n",
    "\n",
    "_testY = to_categorical(testY, nb_classes=2)\n",
    "_trainY = to_categorical(trainY, nb_classes=2)\n",
    "\n",
    "# convert index list to fixed bag of words by frequence\n",
    "_trainX = []\n",
    "for review in trainX:\n",
    "    _trainX.append(np.asarray(index_sequence_to_vector(review)))\n",
    "\n",
    "_testX = []\n",
    "for review in testX:\n",
    "    _testX.append(np.asarray(index_sequence_to_vector(review)))\n",
    "    \n",
    "# Training\n",
    "matModel.fit(_trainX, _trainY, validation_set=0.1, show_metric=True, batch_size=128, n_epoch=30)\n"
   ]
  },
  {
   "cell_type": "code",
   "execution_count": 13,
   "metadata": {
    "collapsed": false,
    "scrolled": false
   },
   "outputs": [
    {
     "name": "stdout",
     "output_type": "stream",
     "text": [
      "Mat Test accuracy:  [0.85080000076293949]\n"
     ]
    },
    {
     "data": {
      "image/png": "[encoded data removed]",
      "text/plain": [
       "<matplotlib.figure.Figure at 0x2204e9145c0>"
      ]
     },
     "metadata": {},
     "output_type": "display_data"
    }
   ],
   "source": [
    "y_true_mat = testY\n",
    "# (first output < second output) -> negative label else positive label\n",
    "y_pred_mat = np.apply_along_axis(lambda x: x[0] < x[1], 1, matModel.predict(_testX)) \n",
    "\n",
    "score = matModel.evaluate(np.array(_testX), _testY)\n",
    "print('Mat Test accuracy: ' , score)\n",
    "\n",
    "plot_confusion_matrix(confusion_matrix(y_true_mat, y_pred_mat), classes=['Negative', 'Positive'], title='Mat Confusion matrix')"
   ]
  },
  {
   "cell_type": "markdown",
   "metadata": {},
   "source": [
    "## Third contender: Andrew Trask"
   ]
  },
  {
   "cell_type": "code",
   "execution_count": 14,
   "metadata": {
    "collapsed": false
   },
   "outputs": [],
   "source": [
    "import time\n",
    "import sys\n",
    "import numpy as np\n",
    "from collections import Counter\n",
    "\n",
    "# Let's tweak our network from before to model these phenomena\n",
    "class SentimentNetwork:\n",
    "    def __init__(self, reviews,labels,min_count = 10,polarity_cutoff = 0.1,hidden_nodes = 10, learning_rate = 0.1):\n",
    "       \n",
    "        np.random.seed(1)\n",
    "    \n",
    "        self.pre_process_data(reviews, labels, polarity_cutoff, min_count)\n",
    "        \n",
    "        self.init_network(len(self.review_vocab),hidden_nodes, 1, learning_rate)\n",
    "        \n",
    "        \n",
    "    def pre_process_data(self,reviews,labels, polarity_cutoff,min_count):\n",
    "        \n",
    "        positive_counts = Counter()\n",
    "        negative_counts = Counter()\n",
    "        total_counts = Counter()\n",
    "\n",
    "        for i in range(len(reviews)):\n",
    "            if(labels[i] == 'POSITIVE'):\n",
    "                for word in reviews[i].split(\" \"):\n",
    "                    positive_counts[word] += 1\n",
    "                    total_counts[word] += 1\n",
    "            else:\n",
    "                for word in reviews[i].split(\" \"):\n",
    "                    negative_counts[word] += 1\n",
    "                    total_counts[word] += 1\n",
    "\n",
    "        pos_neg_ratios = Counter()\n",
    "\n",
    "        for term,cnt in list(total_counts.most_common()):\n",
    "            if(cnt >= 50):\n",
    "                pos_neg_ratio = positive_counts[term] / float(negative_counts[term]+1)\n",
    "                pos_neg_ratios[term] = pos_neg_ratio\n",
    "\n",
    "        for word,ratio in pos_neg_ratios.most_common():\n",
    "            if(ratio > 1):\n",
    "                pos_neg_ratios[word] = np.log(ratio)\n",
    "            else:\n",
    "                pos_neg_ratios[word] = -np.log((1 / (ratio + 0.01)))\n",
    "        \n",
    "        review_vocab = set()\n",
    "        for review in reviews:\n",
    "            for word in review.split(\" \"):\n",
    "                if(total_counts[word] > min_count):\n",
    "                    if(word in pos_neg_ratios.keys()):\n",
    "                        if((pos_neg_ratios[word] >= polarity_cutoff) or (pos_neg_ratios[word] <= -polarity_cutoff)):\n",
    "                            review_vocab.add(word)\n",
    "                    else:\n",
    "                        review_vocab.add(word)\n",
    "        self.review_vocab = list(review_vocab)\n",
    "        \n",
    "        label_vocab = set()\n",
    "        for label in labels:\n",
    "            label_vocab.add(label)\n",
    "        \n",
    "        self.label_vocab = list(label_vocab)\n",
    "        \n",
    "        self.review_vocab_size = len(self.review_vocab)\n",
    "        self.label_vocab_size = len(self.label_vocab)\n",
    "        \n",
    "        self.word2index = {}\n",
    "        for i, word in enumerate(self.review_vocab):\n",
    "            self.word2index[word] = i\n",
    "        \n",
    "        self.label2index = {}\n",
    "        for i, label in enumerate(self.label_vocab):\n",
    "            self.label2index[label] = i\n",
    "         \n",
    "        \n",
    "    def init_network(self, input_nodes, hidden_nodes, output_nodes, learning_rate):\n",
    "        # Set number of nodes in input, hidden and output layers.\n",
    "        self.input_nodes = input_nodes\n",
    "        self.hidden_nodes = hidden_nodes\n",
    "        self.output_nodes = output_nodes\n",
    "\n",
    "        # Initialize weights\n",
    "        self.weights_0_1 = np.zeros((self.input_nodes,self.hidden_nodes))\n",
    "    \n",
    "        self.weights_1_2 = np.random.normal(0.0, self.output_nodes**-0.5, \n",
    "                                                (self.hidden_nodes, self.output_nodes))\n",
    "        \n",
    "        self.learning_rate = learning_rate\n",
    "        \n",
    "        self.layer_0 = np.zeros((1,input_nodes))\n",
    "        self.layer_1 = np.zeros((1,hidden_nodes))\n",
    "        \n",
    "    def sigmoid(self,x):\n",
    "        return 1 / (1 + np.exp(-x))\n",
    "    \n",
    "    \n",
    "    def sigmoid_output_2_derivative(self,output):\n",
    "        return output * (1 - output)\n",
    "    \n",
    "    def update_input_layer(self,review):\n",
    "\n",
    "        # clear out previous state, reset the layer to be all 0s\n",
    "        self.layer_0 *= 0\n",
    "        for word in review.split(\" \"):\n",
    "            self.layer_0[0][self.word2index[word]] = 1\n",
    "\n",
    "    def get_target_for_label(self,label):\n",
    "        if(label == 'POSITIVE'):\n",
    "            return 1\n",
    "        else:\n",
    "            return 0\n",
    "        \n",
    "    def train(self, training_reviews_raw, training_labels):\n",
    "        \n",
    "        training_reviews = list()\n",
    "        for review in training_reviews_raw:\n",
    "            indices = set()\n",
    "            for word in review.split(\" \"):\n",
    "                if(word in self.word2index.keys()):\n",
    "                    indices.add(self.word2index[word])\n",
    "            training_reviews.append(list(indices))\n",
    "        \n",
    "        assert(len(training_reviews) == len(training_labels))\n",
    "        \n",
    "        correct_so_far = 0\n",
    "        \n",
    "        start = time.time()\n",
    "        \n",
    "        for i in range(len(training_reviews)):\n",
    "            \n",
    "            review = training_reviews[i]\n",
    "            label = training_labels[i]\n",
    "            \n",
    "            #### Implement the forward pass here ####\n",
    "            ### Forward pass ###\n",
    "\n",
    "            # Input Layer\n",
    "\n",
    "            # Hidden layer\n",
    "#             layer_1 = self.layer_0.dot(self.weights_0_1)\n",
    "            self.layer_1 *= 0\n",
    "            for index in review:\n",
    "                self.layer_1 += self.weights_0_1[index]\n",
    "            \n",
    "            # Output layer\n",
    "            layer_2 = self.sigmoid(self.layer_1.dot(self.weights_1_2))\n",
    "\n",
    "            #### Implement the backward pass here ####\n",
    "            ### Backward pass ###\n",
    "\n",
    "            # Output error\n",
    "            layer_2_error = layer_2 - self.get_target_for_label(label) # Output layer error is the difference between desired target and actual output.\n",
    "            layer_2_delta = layer_2_error * self.sigmoid_output_2_derivative(layer_2)\n",
    "\n",
    "            # Backpropagated error\n",
    "            layer_1_error = layer_2_delta.dot(self.weights_1_2.T) # errors propagated to the hidden layer\n",
    "            layer_1_delta = layer_1_error # hidden layer gradients - no nonlinearity so it's the same as the error\n",
    "\n",
    "            # Update the weights\n",
    "            self.weights_1_2 -= self.layer_1.T.dot(layer_2_delta) * self.learning_rate # update hidden-to-output weights with gradient descent step\n",
    "            \n",
    "            for index in review:\n",
    "                self.weights_0_1[index] -= layer_1_delta[0] * self.learning_rate # update input-to-hidden weights with gradient descent step\n",
    "\n",
    "            if(layer_2 >= 0.5 and label == 'POSITIVE'):\n",
    "                correct_so_far += 1\n",
    "            if(layer_2 < 0.5 and label == 'NEGATIVE'):\n",
    "                correct_so_far += 1\n",
    "            \n",
    "            reviews_per_second = i / float(time.time() - start + 1)\n",
    "            \n",
    "            sys.stdout.write(\"\\rProgress:\" + str(100 * i/float(len(training_reviews)))[:4] + \"% Speed(reviews/sec):\" + str(reviews_per_second)[0:5] + \" #Correct:\" + str(correct_so_far) + \" #Trained:\" + str(i+1) + \" Training Accuracy:\" + str(correct_so_far * 100 / float(i+1))[:4] + \"%\")\n",
    "        \n",
    "    \n",
    "    def test(self, testing_reviews, testing_labels):\n",
    "        \n",
    "        correct = 0\n",
    "        \n",
    "        result = []\n",
    "        \n",
    "        start = time.time()\n",
    "        \n",
    "        for i in range(len(testing_reviews)):\n",
    "            pred = self.run(testing_reviews[i])\n",
    "            result.append(self.get_target_for_label(pred))\n",
    "            if(pred == testing_labels[i]):\n",
    "                correct += 1\n",
    "            \n",
    "            reviews_per_second = i / float(time.time() - start + 1)\n",
    "            \n",
    "            sys.stdout.write(\"\\rProgress:\" + str(100 * i/float(len(testing_reviews)))[:4] \\\n",
    "                             + \"% Speed(reviews/sec):\" + str(reviews_per_second)[0:5] \\\n",
    "                            + \"% #Correct:\" + str(correct) + \" #Tested:\" + str(i+1) + \" Testing Accuracy:\" + str(correct * 100 / float(i+1))[:4] + \"%\")\n",
    "        return result\n",
    "        \n",
    "    def run(self, review, detailed=False):\n",
    "        \n",
    "        # Input Layer\n",
    "\n",
    "\n",
    "        # Hidden layer\n",
    "        self.layer_1 *= 0\n",
    "        unique_indices = set()\n",
    "        for word in review.lower().split(\" \"):\n",
    "            if word in self.word2index.keys():\n",
    "                unique_indices.add(self.word2index[word])\n",
    "        for index in unique_indices:\n",
    "            self.layer_1 += self.weights_0_1[index]\n",
    "        \n",
    "        # Output layer\n",
    "        layer_2 = self.sigmoid(self.layer_1.dot(self.weights_1_2))\n",
    "        \n",
    "        if detailed:\n",
    "            return layer_2[0]\n",
    "        else:\n",
    "            if(layer_2[0] >= 0.5):\n",
    "                return \"POSITIVE\"\n",
    "            else:\n",
    "                return \"NEGATIVE\""
   ]
  },
  {
   "cell_type": "code",
   "execution_count": 15,
   "metadata": {
    "collapsed": false
   },
   "outputs": [],
   "source": [
    "# adapting the data\n",
    "trainReviews = []\n",
    "for review in trainX:\n",
    "    trainReviews.append(\" \".join(index_list_to_phrase(review)))\n",
    "testReviews = []\n",
    "for review in testX:\n",
    "    testReviews.append(\" \".join(index_list_to_phrase(review)))\n",
    "    \n",
    "testLabels = []\n",
    "for label in testY:\n",
    "    testLabels.append('POSITIVE' if label == 1 else 'NEGATIVE')\n",
    "trainLabels = []\n",
    "for label in trainY:\n",
    "    trainLabels.append('POSITIVE' if label == 1 else 'NEGATIVE')"
   ]
  },
  {
   "cell_type": "code",
   "execution_count": 16,
   "metadata": {
    "collapsed": false
   },
   "outputs": [],
   "source": [
    "traskModel = SentimentNetwork(trainReviews,trainLabels,min_count=20,polarity_cutoff=0.05,learning_rate=0.01)"
   ]
  },
  {
   "cell_type": "code",
   "execution_count": 17,
   "metadata": {
    "collapsed": false
   },
   "outputs": [
    {
     "name": "stdout",
     "output_type": "stream",
     "text": [
      "Progress:99.9% Speed(reviews/sec):1199. #Correct:19179 #Trained:22500 Training Accuracy:85.2%"
     ]
    }
   ],
   "source": [
    "traskModel.train(trainReviews,trainLabels)"
   ]
  },
  {
   "cell_type": "code",
   "execution_count": 18,
   "metadata": {
    "collapsed": false
   },
   "outputs": [
    {
     "name": "stdout",
     "output_type": "stream",
     "text": [
      "Progress:99.9% Speed(reviews/sec):1121.% #Correct:2174 #Tested:2500 Testing Accuracy:86.9%\n",
      "\n",
      "Trask Testing Accuracy: 86.9%\n"
     ]
    },
    {
     "data": {
      "image/png": "[encoded data removed]",
      "text/plain": [
       "<matplotlib.figure.Figure at 0x2201b4637f0>"
      ]
     },
     "metadata": {},
     "output_type": "display_data"
    }
   ],
   "source": [
    "y_true_trask = testY\n",
    "y_pred_trask = traskModel.test(testReviews, testLabels)\n",
    "\n",
    "print('\\n\\nTrask Testing Accuracy: 86.9%') # from above\n",
    "\n",
    "plot_confusion_matrix(confusion_matrix(y_true_trask, y_pred_trask), classes=['Negative', 'Positive'], title='Trask Confusion matrix')"
   ]
  },
  {
   "cell_type": "markdown",
   "metadata": {},
   "source": [
    "## Summary"
   ]
  },
  {
   "cell_type": "code",
   "execution_count": 21,
   "metadata": {
    "collapsed": false
   },
   "outputs": [
    {
     "data": {
      "image/png": "[encoded data removed]",
      "text/plain": [
       "<matplotlib.figure.Figure at 0x2201b451a20>"
      ]
     },
     "metadata": {},
     "output_type": "display_data"
    },
    {
     "data": {
      "image/png": "[encoded data removed]",
      "text/plain": [
       "<matplotlib.figure.Figure at 0x2201b7a7048>"
      ]
     },
     "metadata": {},
     "output_type": "display_data"
    },
    {
     "data": {
      "image/png": "[encoded data removed]",
      "text/plain": [
       "<matplotlib.figure.Figure at 0x2201b7bf9b0>"
      ]
     },
     "metadata": {},
     "output_type": "display_data"
    }
   ],
   "source": [
    "plot_confusion_matrix(confusion_matrix(y_true_siraj, y_pred_siraj), classes=['Negative', 'Positive'], title='Siraj Confusion matrix')\n",
    "plot_confusion_matrix(confusion_matrix(y_true_mat, y_pred_mat), classes=['Negative', 'Positive'], title='Mat Confusion matrix')\n",
    "plot_confusion_matrix(confusion_matrix(y_true_trask, y_pred_trask), classes=['Negative', 'Positive'], title='Trask Confusion matrix')"
   ]
  },
  {
   "cell_type": "markdown",
   "metadata": {},
   "source": [
    "## Try out your own text!"
   ]
  },
  {
   "cell_type": "code",
   "execution_count": 24,
   "metadata": {
    "collapsed": false,
    "scrolled": true
   },
   "outputs": [
    {
     "name": "stdout",
     "output_type": "stream",
     "text": [
      "' This movie was so bad   It was awful and the worst '\n",
      "Siraj: Negative: 0.936 Positive: 0.064\n",
      "Mat  : Negative: 0.998 Positive: 0.002\n",
      "Trask: Positive/Negative:        0.025\n",
      "\n",
      "' This movie was so bad   '\n",
      "Siraj: Negative: 0.870 Positive: 0.130\n",
      "Mat  : Negative: 0.884 Positive: 0.116\n",
      "Trask: Positive/Negative:        0.330\n",
      "\n",
      "' This movie was bad in the begining  but it was excellent overall   '\n",
      "Siraj: Negative: 0.265 Positive: 0.735\n",
      "Mat  : Negative: 0.394 Positive: 0.606\n",
      "Trask: Positive/Negative:        0.648\n",
      "\n",
      "' This movie was good in the begining  but it was awful overall    '\n",
      "Siraj: Negative: 0.878 Positive: 0.122\n",
      "Mat  : Negative: 0.882 Positive: 0.118\n",
      "Trask: Positive/Negative:        0.255\n",
      "\n",
      "' Fantastic Four was a piece of shit  '\n",
      "Siraj: Negative: 0.321 Positive: 0.679\n",
      "Mat  : Negative: 0.615 Positive: 0.385\n",
      "Trask: Positive/Negative:        0.446\n",
      "\n",
      "' Fantastic Four started catching my eye in the casting stage  Seemingly not giving a damn about the source material  it was refreshing to see those kind of balls especially from Marvel  While I welcome Michael B  Jordan as The Human Torch  I wish I could say the same thing about the rest of the film  Fantastic Four is merely a reboot that loses its steam after the first act  Coming in at just over an hour and a half  the film is a rushed piece of reject summer movie drab  The characters are paper thin and about 10 years too young for their respective roles  The visual effects are far from stunning  especially The Thing  whose transformation into the ghastly beast is something closer to a PS2 game than an actual film with a $100 million price tag  Miles Teller proves here that his performance in Whiplash is truly a fluke  As Mr  Fantastic  he struggles to sound like he knows what he is talking about  Perhaps a little more rehearsal time and a little less focus on that cheap looking silver streak in his hair could have benefited him  Kate Mara as Susan Storm is about as idiotic as it can get  Mara is a great actress  there's no other way about it but Kate Mara as Susan Storm is terrible and borderline embarrassing  The biggest shock here in this film is where all the controversy started   Michael B  Jordan as The Human Torch  Jordan's ability to be a badass likable gear head is insanely good  He's the best part of this film by far  If there is anyone that could single handedly carry this film on their back  it is him  The film overall is too dark for Fantastic Four and too shallow for Marvel which leaves it drifting somewhere between ridiculous and not necessary   and at times  both  If there's any movie to see this summer  I can assure you  Fantastic Four is NOT it  '\n",
      "Siraj: Negative: 0.332 Positive: 0.668\n",
      "Mat  : Negative: 0.338 Positive: 0.662\n",
      "Trask: Positive/Negative:        0.417\n",
      "\n"
     ]
    }
   ],
   "source": [
    "def predictAll(text):\n",
    "    text = text.replace('.', ' ').replace(',', ' ')\n",
    "    index_list = np.asarray(phrase_to_index_list(text.lower()))\n",
    "\n",
    "    predictSiraj = sirajModel.predict(pad_sequences(index_list[None,:], maxlen=100, value=0.))\n",
    "    \n",
    "    print(\"'\", text, \"'\")\n",
    "\n",
    "    print('Siraj: Negative: {:.3f} Positive: {:.3f}'.format(predictSiraj[0][0], predictSiraj[0][1]))\n",
    "\n",
    "    predictMat = matModel.predict(index_sequence_to_vector(index_list)[None,:])\n",
    "    print('Mat  : Negative: {:.3f} Positive: {:.3f}'.format(predictMat[0][0], predictMat[0][1]))\n",
    "    \n",
    "    predictTrask = traskModel.run(text, detailed=True)\n",
    "    \n",
    "    print('Trask: Positive/Negative:        {:.3f}'.format(predictTrask[0]))\n",
    "    \n",
    "    print()\n",
    "    \n",
    "predictAll(\"This movie was so bad . It was awful and the worst\")\n",
    "predictAll(\"This movie was so bad .\")\n",
    "predictAll(\"This movie was bad in the begining, but it was excellent overall .\")\n",
    "predictAll(\"This movie was good in the begining, but it was awful overall. .\")\n",
    "predictAll(\"Fantastic Four was a piece of shit.\")\n",
    "predictAll(\"Fantastic Four started catching my eye in the casting stage. Seemingly not giving a damn about the source material, it was refreshing to see those kind of balls especially from Marvel. While I welcome Michael B. Jordan as The Human Torch, I wish I could say the same thing about the rest of the film. Fantastic Four is merely a reboot that loses its steam after the first act. Coming in at just over an hour and a half, the film is a rushed piece of reject summer movie drab. The characters are paper thin and about 10 years too young for their respective roles. The visual effects are far from stunning, especially The Thing, whose transformation into the ghastly beast is something closer to a PS2 game than an actual film with a $100 million price tag. Miles Teller proves here that his performance in Whiplash is truly a fluke. As Mr. Fantastic, he struggles to sound like he knows what he is talking about. Perhaps a little more rehearsal time and a little less focus on that cheap looking silver streak in his hair could have benefited him. Kate Mara as Susan Storm is about as idiotic as it can get. Mara is a great actress, there's no other way about it but Kate Mara as Susan Storm is terrible and borderline embarrassing. The biggest shock here in this film is where all the controversy started...Michael B. Jordan as The Human Torch. Jordan's ability to be a badass likable gear head is insanely good. He's the best part of this film by far. If there is anyone that could single handedly carry this film on their back, it is him. The film overall is too dark for Fantastic Four and too shallow for Marvel which leaves it drifting somewhere between ridiculous and not necessary...and at times, both. If there's any movie to see this summer, I can assure you, Fantastic Four is NOT it.\")"
   ]
  }
 ],
 "metadata": {
  "kernelspec": {
   "display_name": "Python 3",
   "language": "python",
   "name": "python3"
  },
  "language_info": {
   "codemirror_mode": {
    "name": "ipython",
    "version": 3
   },
   "file_extension": ".py",
   "mimetype": "text/x-python",
   "name": "python",
   "nbconvert_exporter": "python",
   "pygments_lexer": "ipython3",
   "version": "3.5.2"
  }
 },
 "nbformat": 4,
 "nbformat_minor": 2
}
