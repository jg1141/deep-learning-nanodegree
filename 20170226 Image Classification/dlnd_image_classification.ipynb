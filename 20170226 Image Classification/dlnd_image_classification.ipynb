{
 "cells": [
  {
   "cell_type": "markdown",
   "metadata": {
    "collapsed": true,
    "deletable": true,
    "editable": true
   },
   "source": [
    "# Image Classification\n",
    "In this project, you'll classify images from the [CIFAR-10 dataset](https://www.cs.toronto.edu/~kriz/cifar.html).  The dataset consists of airplanes, dogs, cats, and other objects. You'll preprocess the images, then train a convolutional neural network on all the samples. The images need to be normalized and the labels need to be one-hot encoded.  You'll get to apply what you learned and build a convolutional, max pooling, dropout, and fully connected layers.  At the end, you'll get to see your neural network's predictions on the sample images.\n",
    "## Get the Data\n",
    "Run the following cell to download the [CIFAR-10 dataset for python](https://www.cs.toronto.edu/~kriz/cifar-10-python.tar.gz)."
   ]
  },
  {
   "cell_type": "code",
   "execution_count": null,
   "metadata": {
    "collapsed": false,
    "deletable": true,
    "editable": true
   },
   "outputs": [],
   "source": [
    "\"\"\"\n",
    "DON'T MODIFY ANYTHING IN THIS CELL THAT IS BELOW THIS LINE\n",
    "\"\"\"\n",
    "from urllib.request import urlretrieve\n",
    "from os.path import isfile, isdir\n",
    "from tqdm import tqdm\n",
    "import problem_unittests as tests\n",
    "import tarfile\n",
    "\n",
    "cifar10_dataset_folder_path = 'cifar-10-batches-py'\n",
    "\n",
    "class DLProgress(tqdm):\n",
    "    last_block = 0\n",
    "\n",
    "    def hook(self, block_num=1, block_size=1, total_size=None):\n",
    "        self.total = total_size\n",
    "        self.update((block_num - self.last_block) * block_size)\n",
    "        self.last_block = block_num\n",
    "\n",
    "if not isfile('cifar-10-python.tar.gz'):\n",
    "    with DLProgress(unit='B', unit_scale=True, miniters=1, desc='CIFAR-10 Dataset') as pbar:\n",
    "        urlretrieve(\n",
    "            'https://www.cs.toronto.edu/~kriz/cifar-10-python.tar.gz',\n",
    "            'cifar-10-python.tar.gz',\n",
    "            pbar.hook)\n",
    "\n",
    "if not isdir(cifar10_dataset_folder_path):\n",
    "    with tarfile.open('cifar-10-python.tar.gz') as tar:\n",
    "        tar.extractall()\n",
    "        tar.close()\n",
    "\n",
    "\n",
    "tests.test_folder_path(cifar10_dataset_folder_path)"
   ]
  },
  {
   "cell_type": "markdown",
   "metadata": {
    "deletable": true,
    "editable": true
   },
   "source": [
    "## Explore the Data\n",
    "The dataset is broken into batches to prevent your machine from running out of memory.  The CIFAR-10 dataset consists of 5 batches, named `data_batch_1`, `data_batch_2`, etc.. Each batch contains the labels and images that are one of the following:\n",
    "* airplane\n",
    "* automobile\n",
    "* bird\n",
    "* cat\n",
    "* deer\n",
    "* dog\n",
    "* frog\n",
    "* horse\n",
    "* ship\n",
    "* truck\n",
    "\n",
    "Understanding a dataset is part of making predictions on the data.  Play around with the code cell below by changing the `batch_id` and `sample_id`. The `batch_id` is the id for a batch (1-5). The `sample_id` is the id for a image and label pair in the batch.\n",
    "\n",
    "Ask yourself \"What are all possible labels?\", \"What is the range of values for the image data?\", \"Are the labels in order or random?\".  Answers to questions like these will help you preprocess the data and end up with better predictions."
   ]
  },
  {
   "cell_type": "code",
   "execution_count": null,
   "metadata": {
    "collapsed": false,
    "deletable": true,
    "editable": true
   },
   "outputs": [],
   "source": [
    "%matplotlib inline\n",
    "%config InlineBackend.figure_format = 'retina'\n",
    "\n",
    "import helper\n",
    "import numpy as np\n",
    "\n",
    "# Explore the dataset\n",
    "batch_id = 1\n",
    "sample_id = 5\n",
    "helper.display_stats(cifar10_dataset_folder_path, batch_id, sample_id)"
   ]
  },
  {
   "cell_type": "code",
   "execution_count": null,
   "metadata": {
    "collapsed": false,
    "deletable": true,
    "editable": true
   },
   "outputs": [],
   "source": [
    "batch_id = 2\n",
    "sample_id = 5\n",
    "helper.display_stats(cifar10_dataset_folder_path, batch_id, sample_id)"
   ]
  },
  {
   "cell_type": "code",
   "execution_count": null,
   "metadata": {
    "collapsed": false,
    "deletable": true,
    "editable": true
   },
   "outputs": [],
   "source": [
    "batch_id = 3\n",
    "sample_id = 5\n",
    "helper.display_stats(cifar10_dataset_folder_path, batch_id, sample_id)"
   ]
  },
  {
   "cell_type": "code",
   "execution_count": null,
   "metadata": {
    "collapsed": false,
    "deletable": true,
    "editable": true
   },
   "outputs": [],
   "source": [
    "batch_id = 4\n",
    "sample_id = 5\n",
    "helper.display_stats(cifar10_dataset_folder_path, batch_id, sample_id)"
   ]
  },
  {
   "cell_type": "code",
   "execution_count": null,
   "metadata": {
    "collapsed": false,
    "deletable": true,
    "editable": true
   },
   "outputs": [],
   "source": [
    "batch_id = 5\n",
    "sample_id = 5\n",
    "helper.display_stats(cifar10_dataset_folder_path, batch_id, sample_id)"
   ]
  },
  {
   "cell_type": "markdown",
   "metadata": {
    "deletable": true,
    "editable": true
   },
   "source": [
    "## Implement Preprocess Functions\n",
    "### Normalize\n",
    "In the cell below, implement the `normalize` function to take in image data, `x`, and return it as a normalized Numpy array. The values should be in the range of 0 to 1, inclusive.  The return object should be the same shape as `x`."
   ]
  },
  {
   "cell_type": "code",
   "execution_count": null,
   "metadata": {
    "collapsed": false,
    "deletable": true,
    "editable": true
   },
   "outputs": [],
   "source": [
    "def normalize(x):\n",
    "    \"\"\"\n",
    "    Normalize a list of sample image data in the range of 0 to 1\n",
    "    : x: List of image data.  The image shape is (32, 32, 3)\n",
    "    : return: Numpy array of normalize data\n",
    "    \"\"\"\n",
    "    # TODO: Implement Function\n",
    "#     a = 0\n",
    "#     b = 1\n",
    "#     grayscale_min = 0\n",
    "#     grayscale_max =255\n",
    "#     return a + ( ( (x - grayscale_min)*(b - a) )/( grayscale_max - grayscale_min ) )\n",
    "    return x / 255 \n",
    "\n",
    "\"\"\"\n",
    "DON'T MODIFY ANYTHING IN THIS CELL THAT IS BELOW THIS LINE\n",
    "\"\"\"\n",
    "tests.test_normalize(normalize)"
   ]
  },
  {
   "cell_type": "markdown",
   "metadata": {
    "deletable": true,
    "editable": true
   },
   "source": [
    "### One-hot encode\n",
    "Just like the previous code cell, you'll be implementing a function for preprocessing.  This time, you'll implement the `one_hot_encode` function. The input, `x`, are a list of labels.  Implement the function to return the list of labels as One-Hot encoded Numpy array.  The possible values for labels are 0 to 9. The one-hot encoding function should return the same encoding for each value between each call to `one_hot_encode`.  Make sure to save the map of encodings outside the function.\n",
    "\n",
    "Hint: Don't reinvent the wheel."
   ]
  },
  {
   "cell_type": "code",
   "execution_count": null,
   "metadata": {
    "collapsed": false,
    "deletable": true,
    "editable": true
   },
   "outputs": [],
   "source": [
    "import numpy as np\n",
    "\n",
    "def one_hot_encode(x):\n",
    "    \"\"\"\n",
    "    One hot encode a list of sample labels. Return a one-hot encoded vector for each label.\n",
    "    \n",
    "    Adapted from http://stackoverflow.com/questions/29831489/numpy-1-hot-array\n",
    "    \n",
    "    : x: List of sample Labels\n",
    "    : return: Numpy array of one-hot encoded labels\n",
    "    \"\"\"\n",
    "    # TODO: Implement Function\n",
    "    output = np.zeros((len(x), max(x)+1))\n",
    "    output[np.arange(len(x)), x] = 1\n",
    "    return output\n",
    "\n",
    "\n",
    "\"\"\"\n",
    "DON'T MODIFY ANYTHING IN THIS CELL THAT IS BELOW THIS LINE\n",
    "\"\"\"\n",
    "tests.test_one_hot_encode(one_hot_encode)"
   ]
  },
  {
   "cell_type": "code",
   "execution_count": null,
   "metadata": {
    "collapsed": false,
    "deletable": true,
    "editable": true
   },
   "outputs": [],
   "source": [
    "one_hot_encode([0, 1, 8, 5, 1, 5, 7, 4, 9])"
   ]
  },
  {
   "cell_type": "markdown",
   "metadata": {
    "deletable": true,
    "editable": true
   },
   "source": [
    "### Randomize Data\n",
    "As you saw from exploring the data above, the order of the samples are randomized.  It doesn't hurt to randomize it again, but you don't need to for this dataset."
   ]
  },
  {
   "cell_type": "markdown",
   "metadata": {
    "deletable": true,
    "editable": true
   },
   "source": [
    "## Preprocess all the data and save it\n",
    "Running the code cell below will preprocess all the CIFAR-10 data and save it to file. The code below also uses 10% of the training data for validation."
   ]
  },
  {
   "cell_type": "code",
   "execution_count": null,
   "metadata": {
    "collapsed": false,
    "deletable": true,
    "editable": true
   },
   "outputs": [],
   "source": [
    "\"\"\"\n",
    "DON'T MODIFY ANYTHING IN THIS CELL\n",
    "\"\"\"\n",
    "# Preprocess Training, Validation, and Testing Data\n",
    "helper.preprocess_and_save_data(cifar10_dataset_folder_path, normalize, one_hot_encode)"
   ]
  },
  {
   "cell_type": "markdown",
   "metadata": {
    "deletable": true,
    "editable": true
   },
   "source": [
    "# Check Point\n",
    "This is your first checkpoint.  If you ever decide to come back to this notebook or have to restart the notebook, you can start from here.  The preprocessed data has been saved to disk."
   ]
  },
  {
   "cell_type": "code",
   "execution_count": 1,
   "metadata": {
    "collapsed": true,
    "deletable": true,
    "editable": true
   },
   "outputs": [],
   "source": [
    "\"\"\"\n",
    "DON'T MODIFY ANYTHING IN THIS CELL\n",
    "\"\"\"\n",
    "import pickle\n",
    "import problem_unittests as tests\n",
    "import helper\n",
    "\n",
    "# Load the Preprocessed Validation data\n",
    "valid_features, valid_labels = pickle.load(open('preprocess_validation.p', mode='rb'))"
   ]
  },
  {
   "cell_type": "markdown",
   "metadata": {
    "deletable": true,
    "editable": true
   },
   "source": [
    "## Build the network\n",
    "For the neural network, you'll build each layer into a function.  Most of the code you've seen has been outside of functions. To test your code more thoroughly, we require that you put each layer in a function.  This allows us to give you better feedback and test for simple mistakes using our unittests before you submit your project.\n",
    "\n",
    "If you're finding it hard to dedicate enough time for this course a week, we've provided a small shortcut to this part of the project. In the next couple of problems, you'll have the option to use [TensorFlow Layers](https://www.tensorflow.org/api_docs/python/tf/layers) or [TensorFlow Layers (contrib)](https://www.tensorflow.org/api_guides/python/contrib.layers) to build each layer, except \"Convolutional & Max Pooling\" layer.  TF Layers is similar to Keras's and TFLearn's abstraction to layers, so it's easy to pickup.\n",
    "\n",
    "If you would like to get the most of this course, try to solve all the problems without TF Layers.  Let's begin!\n",
    "### Input\n",
    "The neural network needs to read the image data, one-hot encoded labels, and dropout keep probability. Implement the following functions\n",
    "* Implement `neural_net_image_input`\n",
    " * Return a [TF Placeholder](https://www.tensorflow.org/api_docs/python/tf/placeholder)\n",
    " * Set the shape using `image_shape` with batch size set to `None`.\n",
    " * Name the TensorFlow placeholder \"x\" using the TensorFlow `name` parameter in the [TF Placeholder](https://www.tensorflow.org/api_docs/python/tf/placeholder).\n",
    "* Implement `neural_net_label_input`\n",
    " * Return a [TF Placeholder](https://www.tensorflow.org/api_docs/python/tf/placeholder)\n",
    " * Set the shape using `n_classes` with batch size set to `None`.\n",
    " * Name the TensorFlow placeholder \"y\" using the TensorFlow `name` parameter in the [TF Placeholder](https://www.tensorflow.org/api_docs/python/tf/placeholder).\n",
    "* Implement `neural_net_keep_prob_input`\n",
    " * Return a [TF Placeholder](https://www.tensorflow.org/api_docs/python/tf/placeholder) for dropout keep probability.\n",
    " * Name the TensorFlow placeholder \"keep_prob\" using the TensorFlow `name` parameter in the [TF Placeholder](https://www.tensorflow.org/api_docs/python/tf/placeholder).\n",
    "\n",
    "These names will be used at the end of the project to load your saved model.\n",
    "\n",
    "Note: `None` for shapes in TensorFlow allow for a dynamic size."
   ]
  },
  {
   "cell_type": "code",
   "execution_count": 2,
   "metadata": {
    "collapsed": false,
    "deletable": true,
    "editable": true
   },
   "outputs": [
    {
     "name": "stdout",
     "output_type": "stream",
     "text": [
      "Image Input Tests Passed.\n",
      "Label Input Tests Passed.\n",
      "Keep Prob Tests Passed.\n"
     ]
    }
   ],
   "source": [
    "import tensorflow as tf\n",
    "\n",
    "def neural_net_image_input(image_shape):\n",
    "    \"\"\"\n",
    "    Return a Tensor for a bach of image input\n",
    "    : image_shape: Shape of the images\n",
    "    : return: Tensor for image input.\n",
    "    \"\"\"\n",
    "    # TODO: Implement Function\n",
    "    dimensions = [None,] # First parameter is None for dynamic values\n",
    "    for dimension in image_shape:\n",
    "        dimensions.append(dimension)\n",
    "    x = tf.placeholder(tf.float32, dimensions, name='x')\n",
    "    return x\n",
    "\n",
    "def neural_net_label_input(n_classes):\n",
    "    \"\"\"\n",
    "    Return a Tensor for a batch of label input\n",
    "    : n_classes: Number of classes\n",
    "    : return: Tensor for label input.\n",
    "    \"\"\"\n",
    "    # TODO: Implement Function\n",
    "    y = tf.placeholder(tf.float32, [None, n_classes], name=\"y\")\n",
    "    return y\n",
    "\n",
    "\n",
    "def neural_net_keep_prob_input():\n",
    "    \"\"\"\n",
    "    Return a Tensor for keep probability\n",
    "    : return: Tensor for keep probability.\n",
    "    \"\"\"\n",
    "    # TODO: Implement Function\n",
    "    return tf.placeholder(tf.float32, name=\"keep_prob\")\n",
    "\n",
    "\n",
    "\"\"\"\n",
    "DON'T MODIFY ANYTHING IN THIS CELL THAT IS BELOW THIS LINE\n",
    "\"\"\"\n",
    "tf.reset_default_graph()\n",
    "tests.test_nn_image_inputs(neural_net_image_input)\n",
    "tests.test_nn_label_inputs(neural_net_label_input)\n",
    "tests.test_nn_keep_prob_inputs(neural_net_keep_prob_input)"
   ]
  },
  {
   "cell_type": "markdown",
   "metadata": {
    "deletable": true,
    "editable": true
   },
   "source": [
    "### Convolution and Max Pooling Layer\n",
    "Convolution layers have a lot of success with images. For this code cell, you should implement the function `conv2d_maxpool` to apply convolution then max pooling:\n",
    "* Create the weight and bias using `conv_ksize`, `conv_num_outputs` and the shape of `x_tensor`.\n",
    "* Apply a convolution to `x_tensor` using weight and `conv_strides`.\n",
    " * We recommend you use same padding, but you're welcome to use any padding.\n",
    "* Add bias\n",
    "* Add a nonlinear activation to the convolution.\n",
    "* Apply Max Pooling using `pool_ksize` and `pool_strides`.\n",
    " * We recommend you use same padding, but you're welcome to use any padding.\n",
    "\n",
    "Note: You **can't** use [TensorFlow Layers](https://www.tensorflow.org/api_docs/python/tf/layers) or [TensorFlow Layers (contrib)](https://www.tensorflow.org/api_guides/python/contrib.layers) for this layer.  You're free to use any TensorFlow package for all the other layers."
   ]
  },
  {
   "cell_type": "code",
   "execution_count": 3,
   "metadata": {
    "collapsed": false,
    "deletable": true,
    "editable": true
   },
   "outputs": [
    {
     "name": "stdout",
     "output_type": "stream",
     "text": [
      "Tests Passed\n"
     ]
    }
   ],
   "source": [
    "def conv2d_maxpool(x_tensor, conv_num_outputs, conv_ksize, conv_strides, pool_ksize, pool_strides):\n",
    "    \"\"\"\n",
    "    Apply convolution then max pooling to x_tensor\n",
    "    :param x_tensor: TensorFlow Tensor\n",
    "    :param conv_num_outputs: Number of outputs for the convolutional layer\n",
    "    :param conv_strides: Stride 2-D Tuple for convolution\n",
    "    :param pool_ksize: kernal size 2-D Tuple for pool\n",
    "    :param pool_strides: Stride 2-D Tuple for pool\n",
    "    : return: A tensor that represents convolution and max pooling of x_tensor\n",
    "    \"\"\"\n",
    "    # TODO: Implement Function\n",
    "    x = 0\n",
    "    y = 1\n",
    "    z = 3\n",
    "    weight = tf.Variable(tf.truncated_normal([conv_ksize[x],\n",
    "                                              conv_ksize[y],\n",
    "                                              int(x_tensor.shape[z]),\n",
    "                                              conv_num_outputs],\n",
    "                                             stddev=0.05))\n",
    "    \n",
    "    bias = tf.Variable(tf.constant(0.05, shape=[conv_num_outputs]))\n",
    "\n",
    "    x_tensor = tf.nn.conv2d(x_tensor, \n",
    "                            weight, \n",
    "                            strides=[1, \n",
    "                                     conv_strides[x], \n",
    "                                     conv_strides[y],\n",
    "                                     1],\n",
    "                            padding='SAME')\n",
    "    \n",
    "    x_tensor = tf.nn.bias_add(x_tensor, bias)\n",
    "    \n",
    "    x_tensor = tf.nn.relu(x_tensor)\n",
    "    \n",
    "    x_tensor = tf.nn.max_pool(x_tensor, \n",
    "                              ksize=[1, \n",
    "                                     pool_ksize[x], \n",
    "                                     pool_ksize[y], \n",
    "                                     1], \n",
    "                              strides=[1, \n",
    "                                       pool_strides[x], \n",
    "                                       pool_strides[y], \n",
    "                                       1], \n",
    "                              padding='SAME')\n",
    "    return x_tensor\n",
    "\n",
    "\n",
    "\"\"\"\n",
    "DON'T MODIFY ANYTHING IN THIS CELL THAT IS BELOW THIS LINE\n",
    "\"\"\"\n",
    "tests.test_con_pool(conv2d_maxpool)"
   ]
  },
  {
   "cell_type": "markdown",
   "metadata": {
    "deletable": true,
    "editable": true
   },
   "source": [
    "### Flatten Layer\n",
    "Implement the `flatten` function to change the dimension of `x_tensor` from a 4-D tensor to a 2-D tensor.  The output should be the shape (*Batch Size*, *Flattened Image Size*). You can use [TensorFlow Layers](https://www.tensorflow.org/api_docs/python/tf/layers) or [TensorFlow Layers (contrib)](https://www.tensorflow.org/api_guides/python/contrib.layers) for this layer."
   ]
  },
  {
   "cell_type": "code",
   "execution_count": 4,
   "metadata": {
    "collapsed": false,
    "deletable": true,
    "editable": true
   },
   "outputs": [
    {
     "name": "stdout",
     "output_type": "stream",
     "text": [
      "Tests Passed\n"
     ]
    }
   ],
   "source": [
    "def flatten(x_tensor):\n",
    "    \"\"\"\n",
    "    Flatten x_tensor to (Batch Size, Flattened Image Size)\n",
    "    : x_tensor: A tensor of size (Batch Size, ...), where ... are the image dimensions.\n",
    "    : return: A tensor of size (Batch Size, Flattened Image Size).\n",
    "    \"\"\"\n",
    "    # TODO: Implement Function\n",
    "    return tf.reshape(x_tensor, [-1, int(x_tensor.shape[1] * x_tensor.shape[2] * x_tensor.shape[3])])\n",
    "\n",
    "\"\"\"\n",
    "DON'T MODIFY ANYTHING IN THIS CELL THAT IS BELOW THIS LINE\n",
    "\"\"\"\n",
    "tests.test_flatten(flatten)"
   ]
  },
  {
   "cell_type": "markdown",
   "metadata": {
    "deletable": true,
    "editable": true
   },
   "source": [
    "### Fully-Connected Layer\n",
    "Implement the `fully_conn` function to apply a fully connected layer to `x_tensor` with the shape (*Batch Size*, *num_outputs*). You can use [TensorFlow Layers](https://www.tensorflow.org/api_docs/python/tf/layers) or [TensorFlow Layers (contrib)](https://www.tensorflow.org/api_guides/python/contrib.layers) for this layer."
   ]
  },
  {
   "cell_type": "code",
   "execution_count": 5,
   "metadata": {
    "collapsed": false,
    "deletable": true,
    "editable": true
   },
   "outputs": [
    {
     "name": "stdout",
     "output_type": "stream",
     "text": [
      "Tests Passed\n"
     ]
    }
   ],
   "source": [
    "def fully_conn(x_tensor, num_outputs):\n",
    "    \"\"\"\n",
    "    Apply a fully connected layer to x_tensor using weight and bias\n",
    "    : x_tensor: A 2-D tensor where the first dimension is batch size.\n",
    "    : num_outputs: The number of output that the new tensor should be.\n",
    "    : return: A 2-D tensor where the second dimension is num_outputs.\n",
    "    \"\"\"\n",
    "    # TODO: Implement Function\n",
    "    weights = tf.Variable(tf.truncated_normal([int(x_tensor.shape[1]),\n",
    "                                               num_outputs],\n",
    "                                              stddev=0.05))\n",
    "    \n",
    "    bias = tf.Variable(tf.constant(0.05, shape=[num_outputs]))\n",
    "\n",
    "    fc_layer = tf.add(tf.matmul(x_tensor, weights), bias)\n",
    "    \n",
    "    fc_layer = tf.nn.relu(fc_layer)\n",
    "    \n",
    "    return fc_layer\n",
    "\n",
    "\n",
    "\"\"\"\n",
    "DON'T MODIFY ANYTHING IN THIS CELL THAT IS BELOW THIS LINE\n",
    "\"\"\"\n",
    "tests.test_fully_conn(fully_conn)"
   ]
  },
  {
   "cell_type": "markdown",
   "metadata": {
    "deletable": true,
    "editable": true
   },
   "source": [
    "### Output Layer\n",
    "Implement the `output` function to apply a fully connected layer to `x_tensor` with the shape (*Batch Size*, *num_outputs*). You can use [TensorFlow Layers](https://www.tensorflow.org/api_docs/python/tf/layers) or [TensorFlow Layers (contrib)](https://www.tensorflow.org/api_guides/python/contrib.layers) for this layer.\n",
    "\n",
    "Note: Activation, softmax, or cross entropy shouldn't be applied to this."
   ]
  },
  {
   "cell_type": "code",
   "execution_count": 6,
   "metadata": {
    "collapsed": false,
    "deletable": true,
    "editable": true
   },
   "outputs": [
    {
     "name": "stdout",
     "output_type": "stream",
     "text": [
      "Tests Passed\n"
     ]
    }
   ],
   "source": [
    "def output(x_tensor, num_outputs):\n",
    "    \"\"\"\n",
    "    Apply a output layer to x_tensor using weight and bias\n",
    "    : x_tensor: A 2-D tensor where the first dimension is batch size.\n",
    "    : num_outputs: The number of output that the new tensor should be.\n",
    "    : return: A 2-D tensor where the second dimension is num_outputs.\n",
    "    \"\"\"\n",
    "    # TODO: Implement Function\n",
    "    weights = tf.Variable(tf.truncated_normal([int(x_tensor.shape[1]), \n",
    "                                               num_outputs],\n",
    "                                              stddev=0.05))\n",
    "    \n",
    "    bias = tf.Variable(tf.constant(0.05, shape=[num_outputs]))\n",
    "\n",
    "    output_layer = tf.add(tf.matmul(x_tensor, weights), bias)\n",
    "    \n",
    "    output_layer = tf.nn.softmax(output_layer)\n",
    "    \n",
    "    return output_layer\n",
    "\n",
    "\n",
    "\"\"\"\n",
    "DON'T MODIFY ANYTHING IN THIS CELL THAT IS BELOW THIS LINE\n",
    "\"\"\"\n",
    "tests.test_output(output)"
   ]
  },
  {
   "cell_type": "markdown",
   "metadata": {
    "deletable": true,
    "editable": true
   },
   "source": [
    "### Create Convolutional Model\n",
    "Implement the function `conv_net` to create a convolutional neural network model. The function takes in a batch of images, `x`, and outputs logits.  Use the layers you created above to create this model:\n",
    "\n",
    "* Apply 1, 2, or 3 Convolution and Max Pool layers\n",
    "* Apply a Flatten Layer\n",
    "* Apply 1, 2, or 3 Fully Connected Layers\n",
    "* Apply an Output Layer\n",
    "* Return the output\n",
    "* Apply [TensorFlow's Dropout](https://www.tensorflow.org/api_docs/python/tf/nn/dropout) to one or more layers in the model using `keep_prob`. "
   ]
  },
  {
   "cell_type": "code",
   "execution_count": 7,
   "metadata": {
    "collapsed": false,
    "deletable": true,
    "editable": true
   },
   "outputs": [
    {
     "name": "stdout",
     "output_type": "stream",
     "text": [
      "Neural Network Built!\n"
     ]
    }
   ],
   "source": [
    "def conv_net(x, keep_prob):\n",
    "    \"\"\"\n",
    "    Create a convolutional neural network model\n",
    "    : x: Placeholder tensor that holds image data.\n",
    "    : keep_prob: Placeholder tensor that hold dropout keep probability.\n",
    "    : return: Tensor that represents logits\n",
    "    \"\"\"\n",
    "    # TODO: Apply 1, 2, or 3 Convolution and Max Pool layers\n",
    "    #    Play around with different number of outputs, kernel size and stride\n",
    "    # Function Definition from Above:\n",
    "    #    conv2d_maxpool(x_tensor, conv_num_outputs, conv_ksize, conv_strides, pool_ksize, pool_strides)\n",
    "    conv1 = conv2d_maxpool(x_tensor=x, \n",
    "                           conv_num_outputs=40, \n",
    "                           conv_ksize=(5, 5), \n",
    "                           conv_strides=(1, 1), \n",
    "                           pool_ksize=(2, 2), \n",
    "                           pool_strides=(1, 1))\n",
    "    conv2 = conv2d_maxpool(x_tensor=conv1,\n",
    "                           conv_num_outputs=30,\n",
    "                           conv_ksize=(4, 4),\n",
    "                           conv_strides=(1, 1),\n",
    "                           pool_ksize=(2, 2),\n",
    "                           pool_strides=(1, 1))\n",
    "        \n",
    "\n",
    "    # TODO: Apply a Flatten Layer\n",
    "    # Function Definition from Above:\n",
    "    #   flatten(x_tensor)\n",
    "    flat_layer = flatten(conv2)\n",
    "\n",
    "    # TODO: Apply 1, 2, or 3 Fully Connected Layers\n",
    "    #    Play around with different number of outputs\n",
    "    # Function Definition from Above:\n",
    "    #   fully_conn(x_tensor, num_outputs)\n",
    "    fc1 = fully_conn(flat_layer, 15)\n",
    "    fc1 = tf.nn.dropout(fc1, keep_prob)\n",
    "    \n",
    "    # TODO: Apply an Output Layer\n",
    "    #    Set this to the number of classes\n",
    "    # Function Definition from Above:\n",
    "    output_layer = output(fc1, 10)\n",
    "    \n",
    "    \n",
    "    # TODO: return output\n",
    "    return output_layer\n",
    "\n",
    "\n",
    "\"\"\"\n",
    "DON'T MODIFY ANYTHING IN THIS CELL THAT IS BELOW THIS LINE\n",
    "\"\"\"\n",
    "\n",
    "##############################\n",
    "## Build the Neural Network ##\n",
    "##############################\n",
    "\n",
    "# Remove previous weights, bias, inputs, etc..\n",
    "tf.reset_default_graph()\n",
    "\n",
    "# Inputs\n",
    "x = neural_net_image_input((32, 32, 3))\n",
    "y = neural_net_label_input(10)\n",
    "keep_prob = neural_net_keep_prob_input()\n",
    "\n",
    "# Model\n",
    "logits = conv_net(x, keep_prob)\n",
    "\n",
    "# Name logits Tensor, so that is can be loaded from disk after training\n",
    "logits = tf.identity(logits, name='logits')\n",
    "\n",
    "# Loss and Optimizer\n",
    "cost = tf.reduce_mean(tf.nn.softmax_cross_entropy_with_logits(logits=logits, labels=y))\n",
    "optimizer = tf.train.AdamOptimizer().minimize(cost)\n",
    "\n",
    "# Accuracy\n",
    "correct_pred = tf.equal(tf.argmax(logits, 1), tf.argmax(y, 1))\n",
    "accuracy = tf.reduce_mean(tf.cast(correct_pred, tf.float32), name='accuracy')\n",
    "\n",
    "tests.test_conv_net(conv_net)"
   ]
  },
  {
   "cell_type": "markdown",
   "metadata": {
    "deletable": true,
    "editable": true
   },
   "source": [
    "## Train the Neural Network\n",
    "### Single Optimization\n",
    "Implement the function `train_neural_network` to do a single optimization.  The optimization should use `optimizer` to optimize in `session` with a `feed_dict` of the following:\n",
    "* `x` for image input\n",
    "* `y` for labels\n",
    "* `keep_prob` for keep probability for dropout\n",
    "\n",
    "This function will be called for each batch, so `tf.global_variables_initializer()` has already been called.\n",
    "\n",
    "Note: Nothing needs to be returned. This function is only optimizing the neural network."
   ]
  },
  {
   "cell_type": "code",
   "execution_count": 8,
   "metadata": {
    "collapsed": false,
    "deletable": true,
    "editable": true
   },
   "outputs": [
    {
     "name": "stdout",
     "output_type": "stream",
     "text": [
      "Tests Passed\n"
     ]
    }
   ],
   "source": [
    "def train_neural_network(session, optimizer, keep_probability, feature_batch, label_batch):\n",
    "    \"\"\"\n",
    "    Optimize the session on a batch of images and labels\n",
    "    : session: Current TensorFlow session\n",
    "    : optimizer: TensorFlow optimizer function\n",
    "    : keep_probability: keep probability\n",
    "    : feature_batch: Batch of Numpy image data\n",
    "    : label_batch: Batch of Numpy label data\n",
    "    \"\"\"\n",
    "    # TODO: Implement Function\n",
    "    session.run(optimizer,\n",
    "                feed_dict={x: feature_batch,\n",
    "                           y: label_batch,\n",
    "                           keep_prob: keep_probability})\n",
    "\n",
    "\"\"\"\n",
    "DON'T MODIFY ANYTHING IN THIS CELL THAT IS BELOW THIS LINE\n",
    "\"\"\"\n",
    "tests.test_train_nn(train_neural_network)"
   ]
  },
  {
   "cell_type": "markdown",
   "metadata": {
    "deletable": true,
    "editable": true
   },
   "source": [
    "### Show Stats\n",
    "Implement the function `print_stats` to print loss and validation accuracy.  Use the global variables `valid_features` and `valid_labels` to calculate validation accuracy.  Use a keep probability of `1.0` to calculate the loss and validation accuracy."
   ]
  },
  {
   "cell_type": "code",
   "execution_count": 9,
   "metadata": {
    "collapsed": false,
    "deletable": true,
    "editable": true
   },
   "outputs": [],
   "source": [
    "def print_stats(session, feature_batch, label_batch, cost, accuracy):\n",
    "    \"\"\"\n",
    "    Print information about loss and validation accuracy\n",
    "    : session: Current TensorFlow session\n",
    "    : feature_batch: Batch of Numpy image data\n",
    "    : label_batch: Batch of Numpy label data\n",
    "    : cost: TensorFlow cost function\n",
    "    : accuracy: TensorFlow accuracy function\n",
    "    \"\"\"\n",
    "    # TODO: Implement Function\n",
    "    loss = session.run(cost,\n",
    "                       feed_dict={x: feature_batch,\n",
    "                                  y: label_batch,\n",
    "                                  keep_prob: 1.0})\n",
    "    \n",
    "    valid_acc = session.run(accuracy, \n",
    "                            feed_dict={x: valid_features,\n",
    "                                       y: valid_labels,\n",
    "                                       keep_prob: 1.0})\n",
    "    \n",
    "    print('Loss: {:>15.4f} Validation Accuracy: {:.4f}'.format(loss, valid_acc))"
   ]
  },
  {
   "cell_type": "markdown",
   "metadata": {
    "deletable": true,
    "editable": true
   },
   "source": [
    "### Hyperparameters\n",
    "Tune the following parameters:\n",
    "* Set `epochs` to the number of iterations until the network stops learning or start overfitting\n",
    "* Set `batch_size` to the highest number that your machine has memory for.  Most people set them to common sizes of memory:\n",
    " * 64\n",
    " * 128\n",
    " * 256\n",
    " * ...\n",
    "* Set `keep_probability` to the probability of keeping a node using dropout"
   ]
  },
  {
   "cell_type": "code",
   "execution_count": 10,
   "metadata": {
    "collapsed": true,
    "deletable": true,
    "editable": true
   },
   "outputs": [],
   "source": [
    "# TODO: Tune Parameters\n",
    "epochs = 40\n",
    "batch_size = 128\n",
    "keep_probability = 0.7"
   ]
  },
  {
   "cell_type": "markdown",
   "metadata": {
    "deletable": true,
    "editable": true
   },
   "source": [
    "### Train on a Single CIFAR-10 Batch\n",
    "Instead of training the neural network on all the CIFAR-10 batches of data, let's use a single batch. This should save time while you iterate on the model to get a better accuracy.  Once the final validation accuracy is 50% or greater, run the model on all the data in the next section."
   ]
  },
  {
   "cell_type": "code",
   "execution_count": 11,
   "metadata": {
    "collapsed": false,
    "deletable": true,
    "editable": true
   },
   "outputs": [
    {
     "name": "stdout",
     "output_type": "stream",
     "text": [
      "Checking the Training on a Single Batch...\n",
      "Epoch  1, CIFAR-10 Batch 1:  Loss:          2.2526 Validation Accuracy: 0.2514\n",
      "Epoch  2, CIFAR-10 Batch 1:  Loss:          2.1529 Validation Accuracy: 0.3126\n",
      "Epoch  3, CIFAR-10 Batch 1:  Loss:          2.1577 Validation Accuracy: 0.3526\n",
      "Epoch  4, CIFAR-10 Batch 1:  Loss:          2.0358 Validation Accuracy: 0.3754\n",
      "Epoch  5, CIFAR-10 Batch 1:  Loss:          2.0795 Validation Accuracy: 0.3964\n",
      "Epoch  6, CIFAR-10 Batch 1:  Loss:          2.1135 Validation Accuracy: 0.4000\n",
      "Epoch  7, CIFAR-10 Batch 1:  Loss:          2.0504 Validation Accuracy: 0.3990\n",
      "Epoch  8, CIFAR-10 Batch 1:  Loss:          2.0481 Validation Accuracy: 0.4120\n",
      "Epoch  9, CIFAR-10 Batch 1:  Loss:          2.0212 Validation Accuracy: 0.4128\n",
      "Epoch 10, CIFAR-10 Batch 1:  Loss:          1.9911 Validation Accuracy: 0.4174\n",
      "Epoch 11, CIFAR-10 Batch 1:  Loss:          1.9991 Validation Accuracy: 0.4346\n",
      "Epoch 12, CIFAR-10 Batch 1:  Loss:          1.9732 Validation Accuracy: 0.4314\n",
      "Epoch 13, CIFAR-10 Batch 1:  Loss:          1.9800 Validation Accuracy: 0.4412\n",
      "Epoch 14, CIFAR-10 Batch 1:  Loss:          1.9521 Validation Accuracy: 0.4416\n",
      "Epoch 15, CIFAR-10 Batch 1:  Loss:          1.9402 Validation Accuracy: 0.4500\n",
      "Epoch 16, CIFAR-10 Batch 1:  Loss:          1.9410 Validation Accuracy: 0.4502\n",
      "Epoch 17, CIFAR-10 Batch 1:  Loss:          1.9152 Validation Accuracy: 0.4596\n",
      "Epoch 18, CIFAR-10 Batch 1:  Loss:          1.9002 Validation Accuracy: 0.4538\n",
      "Epoch 19, CIFAR-10 Batch 1:  Loss:          1.9364 Validation Accuracy: 0.4588\n",
      "Epoch 20, CIFAR-10 Batch 1:  Loss:          1.9373 Validation Accuracy: 0.4510\n",
      "Epoch 21, CIFAR-10 Batch 1:  Loss:          1.9330 Validation Accuracy: 0.4488\n",
      "Epoch 22, CIFAR-10 Batch 1:  Loss:          1.9119 Validation Accuracy: 0.4626\n",
      "Epoch 23, CIFAR-10 Batch 1:  Loss:          1.8914 Validation Accuracy: 0.4650\n",
      "Epoch 24, CIFAR-10 Batch 1:  Loss:          1.8840 Validation Accuracy: 0.4724\n",
      "Epoch 25, CIFAR-10 Batch 1:  Loss:          1.9112 Validation Accuracy: 0.4698\n",
      "Epoch 26, CIFAR-10 Batch 1:  Loss:          1.9111 Validation Accuracy: 0.4578\n",
      "Epoch 27, CIFAR-10 Batch 1:  Loss:          1.8963 Validation Accuracy: 0.4638\n",
      "Epoch 28, CIFAR-10 Batch 1:  Loss:          1.9211 Validation Accuracy: 0.4418\n",
      "Epoch 29, CIFAR-10 Batch 1:  Loss:          1.8890 Validation Accuracy: 0.4748\n",
      "Epoch 30, CIFAR-10 Batch 1:  Loss:          1.9034 Validation Accuracy: 0.4844\n",
      "Epoch 31, CIFAR-10 Batch 1:  Loss:          1.8985 Validation Accuracy: 0.4700\n",
      "Epoch 32, CIFAR-10 Batch 1:  Loss:          1.8781 Validation Accuracy: 0.4880\n",
      "Epoch 33, CIFAR-10 Batch 1:  Loss:          1.8838 Validation Accuracy: 0.4750\n",
      "Epoch 34, CIFAR-10 Batch 1:  Loss:          1.8943 Validation Accuracy: 0.4948\n",
      "Epoch 35, CIFAR-10 Batch 1:  Loss:          1.8926 Validation Accuracy: 0.4740\n",
      "Epoch 36, CIFAR-10 Batch 1:  Loss:          1.8936 Validation Accuracy: 0.4820\n",
      "Epoch 37, CIFAR-10 Batch 1:  Loss:          1.9184 Validation Accuracy: 0.4510\n",
      "Epoch 38, CIFAR-10 Batch 1:  Loss:          1.8454 Validation Accuracy: 0.4834\n",
      "Epoch 39, CIFAR-10 Batch 1:  Loss:          1.7848 Validation Accuracy: 0.4808\n",
      "Epoch 40, CIFAR-10 Batch 1:  Loss:          1.7907 Validation Accuracy: 0.4728\n"
     ]
    }
   ],
   "source": [
    "\"\"\"\n",
    "DON'T MODIFY ANYTHING IN THIS CELL\n",
    "\"\"\"\n",
    "print('Checking the Training on a Single Batch...')\n",
    "with tf.Session() as sess:\n",
    "    # Initializing the variables\n",
    "    sess.run(tf.global_variables_initializer())\n",
    "    \n",
    "    # Training cycle\n",
    "    for epoch in range(epochs):\n",
    "        batch_i = 1\n",
    "        for batch_features, batch_labels in helper.load_preprocess_training_batch(batch_i, batch_size):\n",
    "            train_neural_network(sess, optimizer, keep_probability, batch_features, batch_labels)\n",
    "        print('Epoch {:>2}, CIFAR-10 Batch {}:  '.format(epoch + 1, batch_i), end='')\n",
    "        print_stats(sess, batch_features, batch_labels, cost, accuracy)"
   ]
  },
  {
   "cell_type": "markdown",
   "metadata": {
    "deletable": true,
    "editable": true
   },
   "source": [
    "### Fully Train the Model\n",
    "Now that you got a good accuracy with a single CIFAR-10 batch, try it with all five batches."
   ]
  },
  {
   "cell_type": "code",
   "execution_count": 12,
   "metadata": {
    "collapsed": false,
    "deletable": true,
    "editable": true
   },
   "outputs": [
    {
     "name": "stdout",
     "output_type": "stream",
     "text": [
      "Training...\n",
      "Epoch  1, CIFAR-10 Batch 1:  Loss:          2.2311 Validation Accuracy: 0.2568\n",
      "Epoch  1, CIFAR-10 Batch 2:  Loss:          2.1396 Validation Accuracy: 0.3514\n",
      "Epoch  1, CIFAR-10 Batch 3:  Loss:          2.0647 Validation Accuracy: 0.3836\n",
      "Epoch  1, CIFAR-10 Batch 4:  Loss:          2.1696 Validation Accuracy: 0.4028\n",
      "Epoch  1, CIFAR-10 Batch 5:  Loss:          2.1327 Validation Accuracy: 0.4094\n",
      "Epoch  2, CIFAR-10 Batch 1:  Loss:          2.0942 Validation Accuracy: 0.3884\n",
      "Epoch  2, CIFAR-10 Batch 2:  Loss:          2.0926 Validation Accuracy: 0.3894\n",
      "Epoch  2, CIFAR-10 Batch 3:  Loss:          2.0717 Validation Accuracy: 0.4064\n",
      "Epoch  2, CIFAR-10 Batch 4:  Loss:          2.1140 Validation Accuracy: 0.4198\n",
      "Epoch  2, CIFAR-10 Batch 5:  Loss:          2.0862 Validation Accuracy: 0.3974\n",
      "Epoch  3, CIFAR-10 Batch 1:  Loss:          2.1217 Validation Accuracy: 0.3776\n",
      "Epoch  3, CIFAR-10 Batch 2:  Loss:          1.9947 Validation Accuracy: 0.4124\n",
      "Epoch  3, CIFAR-10 Batch 3:  Loss:          1.9984 Validation Accuracy: 0.4302\n",
      "Epoch  3, CIFAR-10 Batch 4:  Loss:          2.0421 Validation Accuracy: 0.4566\n",
      "Epoch  3, CIFAR-10 Batch 5:  Loss:          2.0860 Validation Accuracy: 0.4492\n",
      "Epoch  4, CIFAR-10 Batch 1:  Loss:          2.0197 Validation Accuracy: 0.4450\n",
      "Epoch  4, CIFAR-10 Batch 2:  Loss:          1.9804 Validation Accuracy: 0.4410\n",
      "Epoch  4, CIFAR-10 Batch 3:  Loss:          1.9755 Validation Accuracy: 0.4614\n",
      "Epoch  4, CIFAR-10 Batch 4:  Loss:          2.0167 Validation Accuracy: 0.4348\n",
      "Epoch  4, CIFAR-10 Batch 5:  Loss:          2.1369 Validation Accuracy: 0.4564\n",
      "Epoch  5, CIFAR-10 Batch 1:  Loss:          2.0157 Validation Accuracy: 0.4566\n",
      "Epoch  5, CIFAR-10 Batch 2:  Loss:          1.9656 Validation Accuracy: 0.4940\n",
      "Epoch  5, CIFAR-10 Batch 3:  Loss:          1.9145 Validation Accuracy: 0.4794\n",
      "Epoch  5, CIFAR-10 Batch 4:  Loss:          2.0248 Validation Accuracy: 0.4652\n",
      "Epoch  5, CIFAR-10 Batch 5:  Loss:          1.9952 Validation Accuracy: 0.4902\n",
      "Epoch  6, CIFAR-10 Batch 1:  Loss:          2.0113 Validation Accuracy: 0.4488\n",
      "Epoch  6, CIFAR-10 Batch 2:  Loss:          1.9390 Validation Accuracy: 0.4782\n",
      "Epoch  6, CIFAR-10 Batch 3:  Loss:          1.9805 Validation Accuracy: 0.4692\n",
      "Epoch  6, CIFAR-10 Batch 4:  Loss:          1.9553 Validation Accuracy: 0.4884\n",
      "Epoch  6, CIFAR-10 Batch 5:  Loss:          1.9608 Validation Accuracy: 0.5030\n",
      "Epoch  7, CIFAR-10 Batch 1:  Loss:          1.9682 Validation Accuracy: 0.5056\n",
      "Epoch  7, CIFAR-10 Batch 2:  Loss:          1.9087 Validation Accuracy: 0.4830\n",
      "Epoch  7, CIFAR-10 Batch 3:  Loss:          1.8466 Validation Accuracy: 0.4994\n",
      "Epoch  7, CIFAR-10 Batch 4:  Loss:          1.9294 Validation Accuracy: 0.5230\n",
      "Epoch  7, CIFAR-10 Batch 5:  Loss:          2.0302 Validation Accuracy: 0.5070\n",
      "Epoch  8, CIFAR-10 Batch 1:  Loss:          1.9294 Validation Accuracy: 0.5112\n",
      "Epoch  8, CIFAR-10 Batch 2:  Loss:          1.9443 Validation Accuracy: 0.5058\n",
      "Epoch  8, CIFAR-10 Batch 3:  Loss:          1.8534 Validation Accuracy: 0.5070\n",
      "Epoch  8, CIFAR-10 Batch 4:  Loss:          1.9517 Validation Accuracy: 0.4918\n",
      "Epoch  8, CIFAR-10 Batch 5:  Loss:          1.9424 Validation Accuracy: 0.4994\n",
      "Epoch  9, CIFAR-10 Batch 1:  Loss:          1.9124 Validation Accuracy: 0.4722\n",
      "Epoch  9, CIFAR-10 Batch 2:  Loss:          1.9039 Validation Accuracy: 0.5114\n",
      "Epoch  9, CIFAR-10 Batch 3:  Loss:          1.7723 Validation Accuracy: 0.5082\n",
      "Epoch  9, CIFAR-10 Batch 4:  Loss:          1.8577 Validation Accuracy: 0.5146\n",
      "Epoch  9, CIFAR-10 Batch 5:  Loss:          1.8875 Validation Accuracy: 0.5208\n",
      "Epoch 10, CIFAR-10 Batch 1:  Loss:          1.9532 Validation Accuracy: 0.5222\n",
      "Epoch 10, CIFAR-10 Batch 2:  Loss:          1.9433 Validation Accuracy: 0.5058\n",
      "Epoch 10, CIFAR-10 Batch 3:  Loss:          1.7492 Validation Accuracy: 0.5384\n",
      "Epoch 10, CIFAR-10 Batch 4:  Loss:          1.8300 Validation Accuracy: 0.5338\n",
      "Epoch 10, CIFAR-10 Batch 5:  Loss:          1.8924 Validation Accuracy: 0.5234\n",
      "Epoch 11, CIFAR-10 Batch 1:  Loss:          1.9178 Validation Accuracy: 0.4918\n",
      "Epoch 11, CIFAR-10 Batch 2:  Loss:          1.9073 Validation Accuracy: 0.5216\n",
      "Epoch 11, CIFAR-10 Batch 3:  Loss:          1.7216 Validation Accuracy: 0.5316\n",
      "Epoch 11, CIFAR-10 Batch 4:  Loss:          1.9134 Validation Accuracy: 0.5116\n",
      "Epoch 11, CIFAR-10 Batch 5:  Loss:          1.8927 Validation Accuracy: 0.5302\n",
      "Epoch 12, CIFAR-10 Batch 1:  Loss:          1.8993 Validation Accuracy: 0.5258\n",
      "Epoch 12, CIFAR-10 Batch 2:  Loss:          1.8970 Validation Accuracy: 0.5334\n",
      "Epoch 12, CIFAR-10 Batch 3:  Loss:          1.7008 Validation Accuracy: 0.5444\n",
      "Epoch 12, CIFAR-10 Batch 4:  Loss:          1.8619 Validation Accuracy: 0.5296\n",
      "Epoch 12, CIFAR-10 Batch 5:  Loss:          1.8304 Validation Accuracy: 0.5224\n",
      "Epoch 13, CIFAR-10 Batch 1:  Loss:          1.9320 Validation Accuracy: 0.5308\n",
      "Epoch 13, CIFAR-10 Batch 2:  Loss:          1.9350 Validation Accuracy: 0.5360\n",
      "Epoch 13, CIFAR-10 Batch 3:  Loss:          1.7554 Validation Accuracy: 0.5184\n",
      "Epoch 13, CIFAR-10 Batch 4:  Loss:          1.9355 Validation Accuracy: 0.5160\n",
      "Epoch 13, CIFAR-10 Batch 5:  Loss:          1.8663 Validation Accuracy: 0.5306\n",
      "Epoch 14, CIFAR-10 Batch 1:  Loss:          1.9427 Validation Accuracy: 0.4790\n",
      "Epoch 14, CIFAR-10 Batch 2:  Loss:          1.8833 Validation Accuracy: 0.5210\n",
      "Epoch 14, CIFAR-10 Batch 3:  Loss:          1.7751 Validation Accuracy: 0.5290\n",
      "Epoch 14, CIFAR-10 Batch 4:  Loss:          1.8843 Validation Accuracy: 0.5296\n",
      "Epoch 14, CIFAR-10 Batch 5:  Loss:          1.7938 Validation Accuracy: 0.5480\n",
      "Epoch 15, CIFAR-10 Batch 1:  Loss:          1.9273 Validation Accuracy: 0.5252\n",
      "Epoch 15, CIFAR-10 Batch 2:  Loss:          1.8370 Validation Accuracy: 0.5250\n",
      "Epoch 15, CIFAR-10 Batch 3:  Loss:          1.7414 Validation Accuracy: 0.5488\n",
      "Epoch 15, CIFAR-10 Batch 4:  Loss:          1.8619 Validation Accuracy: 0.5518\n",
      "Epoch 15, CIFAR-10 Batch 5:  Loss:          1.9063 Validation Accuracy: 0.5304\n",
      "Epoch 16, CIFAR-10 Batch 1:  Loss:          1.9084 Validation Accuracy: 0.5428\n",
      "Epoch 16, CIFAR-10 Batch 2:  Loss:          1.8504 Validation Accuracy: 0.5536\n",
      "Epoch 16, CIFAR-10 Batch 3:  Loss:          1.7728 Validation Accuracy: 0.5494\n",
      "Epoch 16, CIFAR-10 Batch 4:  Loss:          1.7563 Validation Accuracy: 0.5600\n",
      "Epoch 16, CIFAR-10 Batch 5:  Loss:          1.8934 Validation Accuracy: 0.5432\n",
      "Epoch 17, CIFAR-10 Batch 1:  Loss:          1.9142 Validation Accuracy: 0.5336\n",
      "Epoch 17, CIFAR-10 Batch 2:  Loss:          1.8170 Validation Accuracy: 0.5540\n",
      "Epoch 17, CIFAR-10 Batch 3:  Loss:          1.7457 Validation Accuracy: 0.5492\n",
      "Epoch 17, CIFAR-10 Batch 4:  Loss:          1.8091 Validation Accuracy: 0.5642\n",
      "Epoch 17, CIFAR-10 Batch 5:  Loss:          1.9687 Validation Accuracy: 0.5250\n",
      "Epoch 18, CIFAR-10 Batch 1:  Loss:          1.9010 Validation Accuracy: 0.5342\n",
      "Epoch 18, CIFAR-10 Batch 2:  Loss:          1.7595 Validation Accuracy: 0.5494\n",
      "Epoch 18, CIFAR-10 Batch 3:  Loss:          1.7232 Validation Accuracy: 0.5488\n",
      "Epoch 18, CIFAR-10 Batch 4:  Loss:          1.8105 Validation Accuracy: 0.5684\n",
      "Epoch 18, CIFAR-10 Batch 5:  Loss:          1.7957 Validation Accuracy: 0.5680\n",
      "Epoch 19, CIFAR-10 Batch 1:  Loss:          1.8693 Validation Accuracy: 0.5644\n",
      "Epoch 19, CIFAR-10 Batch 2:  Loss:          1.8400 Validation Accuracy: 0.5732\n",
      "Epoch 19, CIFAR-10 Batch 3:  Loss:          1.7137 Validation Accuracy: 0.5634\n",
      "Epoch 19, CIFAR-10 Batch 4:  Loss:          1.7929 Validation Accuracy: 0.5704\n",
      "Epoch 19, CIFAR-10 Batch 5:  Loss:          1.8242 Validation Accuracy: 0.5640\n",
      "Epoch 20, CIFAR-10 Batch 1:  Loss:          1.8811 Validation Accuracy: 0.5028\n",
      "Epoch 20, CIFAR-10 Batch 2:  Loss:          1.8078 Validation Accuracy: 0.5650\n",
      "Epoch 20, CIFAR-10 Batch 3:  Loss:          1.7078 Validation Accuracy: 0.5518\n",
      "Epoch 20, CIFAR-10 Batch 4:  Loss:          1.8806 Validation Accuracy: 0.5564\n",
      "Epoch 20, CIFAR-10 Batch 5:  Loss:          1.8052 Validation Accuracy: 0.5702\n",
      "Epoch 21, CIFAR-10 Batch 1:  Loss:          1.9324 Validation Accuracy: 0.5596\n",
      "Epoch 21, CIFAR-10 Batch 2:  Loss:          1.8399 Validation Accuracy: 0.5564\n",
      "Epoch 21, CIFAR-10 Batch 3:  Loss:          1.7073 Validation Accuracy: 0.5776\n",
      "Epoch 21, CIFAR-10 Batch 4:  Loss:          1.8098 Validation Accuracy: 0.5704\n",
      "Epoch 21, CIFAR-10 Batch 5:  Loss:          1.8035 Validation Accuracy: 0.5744\n",
      "Epoch 22, CIFAR-10 Batch 1:  Loss:          1.9015 Validation Accuracy: 0.5536\n",
      "Epoch 22, CIFAR-10 Batch 2:  Loss:          1.8220 Validation Accuracy: 0.5792\n",
      "Epoch 22, CIFAR-10 Batch 3:  Loss:          1.6884 Validation Accuracy: 0.5636\n",
      "Epoch 22, CIFAR-10 Batch 4:  Loss:          1.7521 Validation Accuracy: 0.5704\n",
      "Epoch 22, CIFAR-10 Batch 5:  Loss:          1.8461 Validation Accuracy: 0.5734\n",
      "Epoch 23, CIFAR-10 Batch 1:  Loss:          1.9269 Validation Accuracy: 0.5680\n",
      "Epoch 23, CIFAR-10 Batch 2:  Loss:          1.8060 Validation Accuracy: 0.5562\n",
      "Epoch 23, CIFAR-10 Batch 3:  Loss:          1.6774 Validation Accuracy: 0.5762\n",
      "Epoch 23, CIFAR-10 Batch 4:  Loss:          1.8775 Validation Accuracy: 0.5660\n",
      "Epoch 23, CIFAR-10 Batch 5:  Loss:          1.8110 Validation Accuracy: 0.5560\n",
      "Epoch 24, CIFAR-10 Batch 1:  Loss:          1.8728 Validation Accuracy: 0.5626\n",
      "Epoch 24, CIFAR-10 Batch 2:  Loss:          1.7806 Validation Accuracy: 0.5748\n",
      "Epoch 24, CIFAR-10 Batch 3:  Loss:          1.7171 Validation Accuracy: 0.5718\n",
      "Epoch 24, CIFAR-10 Batch 4:  Loss:          1.8216 Validation Accuracy: 0.5670\n",
      "Epoch 24, CIFAR-10 Batch 5:  Loss:          1.8322 Validation Accuracy: 0.5566\n",
      "Epoch 25, CIFAR-10 Batch 1:  Loss:          1.8892 Validation Accuracy: 0.5576\n",
      "Epoch 25, CIFAR-10 Batch 2:  Loss:          1.7767 Validation Accuracy: 0.5598\n",
      "Epoch 25, CIFAR-10 Batch 3:  Loss:          1.7329 Validation Accuracy: 0.5536\n",
      "Epoch 25, CIFAR-10 Batch 4:  Loss:          1.8221 Validation Accuracy: 0.5696\n",
      "Epoch 25, CIFAR-10 Batch 5:  Loss:          1.8112 Validation Accuracy: 0.5700\n",
      "Epoch 26, CIFAR-10 Batch 1:  Loss:          1.8835 Validation Accuracy: 0.5758\n",
      "Epoch 26, CIFAR-10 Batch 2:  Loss:          1.7749 Validation Accuracy: 0.5654\n",
      "Epoch 26, CIFAR-10 Batch 3:  Loss:          1.6400 Validation Accuracy: 0.5742\n",
      "Epoch 26, CIFAR-10 Batch 4:  Loss:          1.7936 Validation Accuracy: 0.5760\n",
      "Epoch 26, CIFAR-10 Batch 5:  Loss:          1.8545 Validation Accuracy: 0.5586\n",
      "Epoch 27, CIFAR-10 Batch 1:  Loss:          1.8418 Validation Accuracy: 0.5674\n",
      "Epoch 27, CIFAR-10 Batch 2:  Loss:          1.8082 Validation Accuracy: 0.5642\n",
      "Epoch 27, CIFAR-10 Batch 3:  Loss:          1.7171 Validation Accuracy: 0.5652\n",
      "Epoch 27, CIFAR-10 Batch 4:  Loss:          1.8311 Validation Accuracy: 0.5670\n",
      "Epoch 27, CIFAR-10 Batch 5:  Loss:          1.8165 Validation Accuracy: 0.5502\n",
      "Epoch 28, CIFAR-10 Batch 1:  Loss:          1.8583 Validation Accuracy: 0.5754\n",
      "Epoch 28, CIFAR-10 Batch 2:  Loss:          1.8023 Validation Accuracy: 0.5858\n",
      "Epoch 28, CIFAR-10 Batch 3:  Loss:          1.6936 Validation Accuracy: 0.5696\n",
      "Epoch 28, CIFAR-10 Batch 4:  Loss:          1.8451 Validation Accuracy: 0.5648\n",
      "Epoch 28, CIFAR-10 Batch 5:  Loss:          1.7056 Validation Accuracy: 0.5676\n",
      "Epoch 29, CIFAR-10 Batch 1:  Loss:          1.8167 Validation Accuracy: 0.5618\n",
      "Epoch 29, CIFAR-10 Batch 2:  Loss:          1.7926 Validation Accuracy: 0.5708\n",
      "Epoch 29, CIFAR-10 Batch 3:  Loss:          1.7191 Validation Accuracy: 0.5496\n",
      "Epoch 29, CIFAR-10 Batch 4:  Loss:          1.7142 Validation Accuracy: 0.5728\n",
      "Epoch 29, CIFAR-10 Batch 5:  Loss:          1.7349 Validation Accuracy: 0.5686\n",
      "Epoch 30, CIFAR-10 Batch 1:  Loss:          1.9117 Validation Accuracy: 0.5704\n",
      "Epoch 30, CIFAR-10 Batch 2:  Loss:          1.8235 Validation Accuracy: 0.5598\n",
      "Epoch 30, CIFAR-10 Batch 3:  Loss:          1.6470 Validation Accuracy: 0.5780\n",
      "Epoch 30, CIFAR-10 Batch 4:  Loss:          1.7922 Validation Accuracy: 0.5682\n",
      "Epoch 30, CIFAR-10 Batch 5:  Loss:          1.7213 Validation Accuracy: 0.5742\n",
      "Epoch 31, CIFAR-10 Batch 1:  Loss:          1.8852 Validation Accuracy: 0.5774\n",
      "Epoch 31, CIFAR-10 Batch 2:  Loss:          1.7741 Validation Accuracy: 0.5756\n",
      "Epoch 31, CIFAR-10 Batch 3:  Loss:          1.6910 Validation Accuracy: 0.5870\n",
      "Epoch 31, CIFAR-10 Batch 4:  Loss:          1.7995 Validation Accuracy: 0.5728\n",
      "Epoch 31, CIFAR-10 Batch 5:  Loss:          1.7511 Validation Accuracy: 0.5716\n",
      "Epoch 32, CIFAR-10 Batch 1:  Loss:          1.8183 Validation Accuracy: 0.5720\n",
      "Epoch 32, CIFAR-10 Batch 2:  Loss:          1.8232 Validation Accuracy: 0.5688\n",
      "Epoch 32, CIFAR-10 Batch 3:  Loss:          1.6600 Validation Accuracy: 0.5960\n",
      "Epoch 32, CIFAR-10 Batch 4:  Loss:          1.7581 Validation Accuracy: 0.5672\n",
      "Epoch 32, CIFAR-10 Batch 5:  Loss:          1.7321 Validation Accuracy: 0.5816\n",
      "Epoch 33, CIFAR-10 Batch 1:  Loss:          1.9036 Validation Accuracy: 0.5898\n",
      "Epoch 33, CIFAR-10 Batch 2:  Loss:          1.8094 Validation Accuracy: 0.5696\n",
      "Epoch 33, CIFAR-10 Batch 3:  Loss:          1.6818 Validation Accuracy: 0.5770\n",
      "Epoch 33, CIFAR-10 Batch 4:  Loss:          1.8134 Validation Accuracy: 0.5744\n",
      "Epoch 33, CIFAR-10 Batch 5:  Loss:          1.7402 Validation Accuracy: 0.5816\n",
      "Epoch 34, CIFAR-10 Batch 1:  Loss:          1.8762 Validation Accuracy: 0.5918\n",
      "Epoch 34, CIFAR-10 Batch 2:  Loss:          1.7330 Validation Accuracy: 0.5832\n",
      "Epoch 34, CIFAR-10 Batch 3:  Loss:          1.6654 Validation Accuracy: 0.5828\n",
      "Epoch 34, CIFAR-10 Batch 4:  Loss:          1.7359 Validation Accuracy: 0.5872\n",
      "Epoch 34, CIFAR-10 Batch 5:  Loss:          1.7499 Validation Accuracy: 0.5838\n",
      "Epoch 35, CIFAR-10 Batch 1:  Loss:          1.8921 Validation Accuracy: 0.5854\n",
      "Epoch 35, CIFAR-10 Batch 2:  Loss:          1.7302 Validation Accuracy: 0.5882\n",
      "Epoch 35, CIFAR-10 Batch 3:  Loss:          1.7087 Validation Accuracy: 0.5924\n",
      "Epoch 35, CIFAR-10 Batch 4:  Loss:          1.7537 Validation Accuracy: 0.5866\n",
      "Epoch 35, CIFAR-10 Batch 5:  Loss:          1.7839 Validation Accuracy: 0.5772\n",
      "Epoch 36, CIFAR-10 Batch 1:  Loss:          1.8818 Validation Accuracy: 0.5838\n",
      "Epoch 36, CIFAR-10 Batch 2:  Loss:          1.7567 Validation Accuracy: 0.5844\n",
      "Epoch 36, CIFAR-10 Batch 3:  Loss:          1.6577 Validation Accuracy: 0.5906\n",
      "Epoch 36, CIFAR-10 Batch 4:  Loss:          1.7893 Validation Accuracy: 0.5766\n",
      "Epoch 36, CIFAR-10 Batch 5:  Loss:          1.7506 Validation Accuracy: 0.5968\n",
      "Epoch 37, CIFAR-10 Batch 1:  Loss:          1.8351 Validation Accuracy: 0.5868\n",
      "Epoch 37, CIFAR-10 Batch 2:  Loss:          1.7796 Validation Accuracy: 0.5692\n",
      "Epoch 37, CIFAR-10 Batch 3:  Loss:          1.7134 Validation Accuracy: 0.5838\n",
      "Epoch 37, CIFAR-10 Batch 4:  Loss:          1.7161 Validation Accuracy: 0.5976\n",
      "Epoch 37, CIFAR-10 Batch 5:  Loss:          1.7209 Validation Accuracy: 0.5984\n",
      "Epoch 38, CIFAR-10 Batch 1:  Loss:          1.8668 Validation Accuracy: 0.5960\n",
      "Epoch 38, CIFAR-10 Batch 2:  Loss:          1.7577 Validation Accuracy: 0.6088\n",
      "Epoch 38, CIFAR-10 Batch 3:  Loss:          1.6970 Validation Accuracy: 0.5908\n",
      "Epoch 38, CIFAR-10 Batch 4:  Loss:          1.7444 Validation Accuracy: 0.5854\n",
      "Epoch 38, CIFAR-10 Batch 5:  Loss:          1.6938 Validation Accuracy: 0.5796\n",
      "Epoch 39, CIFAR-10 Batch 1:  Loss:          1.8557 Validation Accuracy: 0.5782\n",
      "Epoch 39, CIFAR-10 Batch 2:  Loss:          1.7680 Validation Accuracy: 0.5858\n",
      "Epoch 39, CIFAR-10 Batch 3:  Loss:          1.6732 Validation Accuracy: 0.5926\n",
      "Epoch 39, CIFAR-10 Batch 4:  Loss:          1.7799 Validation Accuracy: 0.5850\n",
      "Epoch 39, CIFAR-10 Batch 5:  Loss:          1.6765 Validation Accuracy: 0.5932\n",
      "Epoch 40, CIFAR-10 Batch 1:  Loss:          1.8204 Validation Accuracy: 0.5644\n",
      "Epoch 40, CIFAR-10 Batch 2:  Loss:          1.7877 Validation Accuracy: 0.5874\n",
      "Epoch 40, CIFAR-10 Batch 3:  Loss:          1.7484 Validation Accuracy: 0.5874\n",
      "Epoch 40, CIFAR-10 Batch 4:  Loss:          1.6917 Validation Accuracy: 0.5834\n",
      "Epoch 40, CIFAR-10 Batch 5:  Loss:          1.7268 Validation Accuracy: 0.5774\n"
     ]
    }
   ],
   "source": [
    "\"\"\"\n",
    "DON'T MODIFY ANYTHING IN THIS CELL\n",
    "\"\"\"\n",
    "save_model_path = './image_classification'\n",
    "\n",
    "print('Training...')\n",
    "with tf.Session() as sess:\n",
    "    # Initializing the variables\n",
    "    sess.run(tf.global_variables_initializer())\n",
    "    \n",
    "    # Training cycle\n",
    "    for epoch in range(epochs):\n",
    "        # Loop over all batches\n",
    "        n_batches = 5\n",
    "        for batch_i in range(1, n_batches + 1):\n",
    "            for batch_features, batch_labels in helper.load_preprocess_training_batch(batch_i, batch_size):\n",
    "                train_neural_network(sess, optimizer, keep_probability, batch_features, batch_labels)\n",
    "            print('Epoch {:>2}, CIFAR-10 Batch {}:  '.format(epoch + 1, batch_i), end='')\n",
    "            print_stats(sess, batch_features, batch_labels, cost, accuracy)\n",
    "            \n",
    "    # Save Model\n",
    "    saver = tf.train.Saver()\n",
    "    save_path = saver.save(sess, save_model_path)"
   ]
  },
  {
   "cell_type": "markdown",
   "metadata": {
    "deletable": true,
    "editable": true
   },
   "source": [
    "# Checkpoint\n",
    "The model has been saved to disk.\n",
    "## Test Model\n",
    "Test your model against the test dataset.  This will be your final accuracy. You should have an accuracy greater than 50%. If you don't, keep tweaking the model architecture and parameters."
   ]
  },
  {
   "cell_type": "code",
   "execution_count": 13,
   "metadata": {
    "collapsed": false,
    "deletable": true,
    "editable": true
   },
   "outputs": [
    {
     "name": "stdout",
     "output_type": "stream",
     "text": [
      "Testing Accuracy: 0.5740704113924051\n",
      "\n"
     ]
    },
    {
     "data": {
      "image/png": "[encoded data removed]",
      "text/plain": [
       "<matplotlib.figure.Figure at 0x2339c334438>"
      ]
     },
     "metadata": {
      "image/png": {
       "height": 319,
       "width": 355
      }
     },
     "output_type": "display_data"
    }
   ],
   "source": [
    "\"\"\"\n",
    "DON'T MODIFY ANYTHING IN THIS CELL\n",
    "\"\"\"\n",
    "%matplotlib inline\n",
    "%config InlineBackend.figure_format = 'retina'\n",
    "\n",
    "import tensorflow as tf\n",
    "import pickle\n",
    "import helper\n",
    "import random\n",
    "\n",
    "# Set batch size if not already set\n",
    "try:\n",
    "    if batch_size:\n",
    "        pass\n",
    "except NameError:\n",
    "    batch_size = 64\n",
    "\n",
    "save_model_path = './image_classification'\n",
    "n_samples = 4\n",
    "top_n_predictions = 3\n",
    "\n",
    "def test_model():\n",
    "    \"\"\"\n",
    "    Test the saved model against the test dataset\n",
    "    \"\"\"\n",
    "\n",
    "    test_features, test_labels = pickle.load(open('preprocess_training.p', mode='rb'))\n",
    "    loaded_graph = tf.Graph()\n",
    "\n",
    "    with tf.Session(graph=loaded_graph) as sess:\n",
    "        # Load model\n",
    "        loader = tf.train.import_meta_graph(save_model_path + '.meta')\n",
    "        loader.restore(sess, save_model_path)\n",
    "\n",
    "        # Get Tensors from loaded model\n",
    "        loaded_x = loaded_graph.get_tensor_by_name('x:0')\n",
    "        loaded_y = loaded_graph.get_tensor_by_name('y:0')\n",
    "        loaded_keep_prob = loaded_graph.get_tensor_by_name('keep_prob:0')\n",
    "        loaded_logits = loaded_graph.get_tensor_by_name('logits:0')\n",
    "        loaded_acc = loaded_graph.get_tensor_by_name('accuracy:0')\n",
    "        \n",
    "        # Get accuracy in batches for memory limitations\n",
    "        test_batch_acc_total = 0\n",
    "        test_batch_count = 0\n",
    "        \n",
    "        for train_feature_batch, train_label_batch in helper.batch_features_labels(test_features, test_labels, batch_size):\n",
    "            test_batch_acc_total += sess.run(\n",
    "                loaded_acc,\n",
    "                feed_dict={loaded_x: train_feature_batch, loaded_y: train_label_batch, loaded_keep_prob: 1.0})\n",
    "            test_batch_count += 1\n",
    "\n",
    "        print('Testing Accuracy: {}\\n'.format(test_batch_acc_total/test_batch_count))\n",
    "\n",
    "        # Print Random Samples\n",
    "        random_test_features, random_test_labels = tuple(zip(*random.sample(list(zip(test_features, test_labels)), n_samples)))\n",
    "        random_test_predictions = sess.run(\n",
    "            tf.nn.top_k(tf.nn.softmax(loaded_logits), top_n_predictions),\n",
    "            feed_dict={loaded_x: random_test_features, loaded_y: random_test_labels, loaded_keep_prob: 1.0})\n",
    "        helper.display_image_predictions(random_test_features, random_test_labels, random_test_predictions)\n",
    "\n",
    "\n",
    "test_model()"
   ]
  },
  {
   "cell_type": "markdown",
   "metadata": {
    "deletable": true,
    "editable": true
   },
   "source": [
    "## Why 50-70% Accuracy?\n",
    "You might be wondering why you can't get an accuracy any higher. First things first, 50% isn't bad for a simple CNN.  Pure guessing would get you 10% accuracy. However, you might notice people are getting scores [well above 70%](http://rodrigob.github.io/are_we_there_yet/build/classification_datasets_results.html#43494641522d3130).  That's because we haven't taught you all there is to know about neural networks. We still need to cover a few more techniques.\n",
    "## Submitting This Project\n",
    "When submitting this project, make sure to run all the cells before saving the notebook.  Save the notebook file as \"dlnd_image_classification.ipynb\" and save it as a HTML file under \"File\" -> \"Download as\".  Include the \"helper.py\" and \"problem_unittests.py\" files in your submission."
   ]
  }
 ],
 "metadata": {
  "kernelspec": {
   "display_name": "Python 3",
   "language": "python",
   "name": "python3"
  },
  "language_info": {
   "codemirror_mode": {
    "name": "ipython",
    "version": 3
   },
   "file_extension": ".py",
   "mimetype": "text/x-python",
   "name": "python",
   "nbconvert_exporter": "python",
   "pygments_lexer": "ipython3",
   "version": "3.5.3"
  }
 },
 "nbformat": 4,
 "nbformat_minor": 0
}
